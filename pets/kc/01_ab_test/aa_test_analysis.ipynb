{
 "cells": [
  {
   "cell_type": "markdown",
   "id": "c89d7197-bd03-4819-984f-6a685403267f",
   "metadata": {},
   "source": [
    "# Анализ А/А теста (CTR)"
   ]
  },
  {
   "cell_type": "markdown",
   "id": "eecb9559-f5d7-46af-aa13-dc1c73002884",
   "metadata": {},
   "source": [
    "## Общие данные и цели исследования\n",
    "\n",
    "Имеются данные А/А-теста (группы 2 и 3) с '2023-08-22' по '2023-08-28', необходимо сделать симуляцию 10000 А/А-тестов из существующих выборок (по 500 уникальных пользователей в каждой группе на 1 симуляцию). Провести сравнение этих подвыборок t-тестом.\n",
    "\n",
    "Далее требуется\n",
    "1. Построить гистограмму распределения получившихся 10000 p-values.\n",
    "2. Посчитать, какой процент p values оказался меньше либо равен 0.05\n",
    "3. Написать вывод по проведенному А/А-тесту, корректно ли работает система сплитования.\n",
    "\n",
    "\t\t\t\t\t\t\t\n",
    "Стуктура данных\n",
    "- user_id - уникальный идентификатор пользователя\n",
    "- post_id - уникальный идентификатор поста\n",
    "- action - действие (просмотр/лайк)\n",
    "- time - дата и время действия\n",
    "- gender - гендер\n",
    "- age - возраст\n",
    "- country - страна\n",
    "- city - город\n",
    "- os - операционная система\n",
    "- source - источник откуда пришел пользователь\n",
    "- exp_group - номер группы тестирования"
   ]
  },
  {
   "cell_type": "markdown",
   "id": "8903b298-a682-4f24-b879-8c1fcbae877e",
   "metadata": {
    "tags": []
   },
   "source": [
    "## Блок общих функций и импорта библиотек"
   ]
  },
  {
   "cell_type": "code",
   "execution_count": 1,
   "id": "5fd9e5de-057c-42c9-ade3-2ba50deaec22",
   "metadata": {},
   "outputs": [],
   "source": [
    "#импорт из стандартной библиотеки\n",
    "\n",
    "#импорт сторонних библиотек\n",
    "import pandas as pd\n",
    "import numpy as np\n",
    "from matplotlib import pyplot as plt\n",
    "import seaborn as sns\n",
    "from scipy import stats as st\n",
    "import pandahouse as ph\n",
    "#from sklearn import preprocessing"
   ]
  },
  {
   "cell_type": "markdown",
   "id": "d1d5b8d9-7227-4861-8f2b-b4bff3b5e105",
   "metadata": {},
   "source": [
    "Создадим класс для подключения к БД и получения результатов запроса"
   ]
  },
  {
   "cell_type": "code",
   "execution_count": 2,
   "id": "7ab737f6-3dd1-4782-81b8-a2794ec6e252",
   "metadata": {},
   "outputs": [],
   "source": [
    "class getch:\n",
    "    def __init__(self, query, db=''):\n",
    "        self.connection = {\n",
    "            'host': '',\n",
    "            'password': '',\n",
    "            'user': '',\n",
    "            'database': db,\n",
    "        }\n",
    "        self.query = query\n",
    "        self.getchdf\n",
    "\n",
    "    @property\n",
    "    def getchdf(self):\n",
    "        try:\n",
    "            self.df = ph.read_clickhouse(self.query, connection=self.connection)\n",
    "\n",
    "        except Exception as err:\n",
    "            print(\"\\033[31m {}\".format(err))\n",
    "            exit(0)"
   ]
  },
  {
   "cell_type": "markdown",
   "id": "71865576-f182-425d-a987-e4adbf35e6b9",
   "metadata": {},
   "source": [
    "## Загрузка данных и подготовка их к исследованию"
   ]
  },
  {
   "cell_type": "markdown",
   "id": "0b2da3f8-7e21-46d8-83dc-05cab9871b69",
   "metadata": {},
   "source": [
    "Загрузим первую строку, и посмотрим на структуру БД"
   ]
  },
  {
   "cell_type": "code",
   "execution_count": 3,
   "id": "b87ffd74-c339-4845-a527-162a4bf5b7f8",
   "metadata": {},
   "outputs": [],
   "source": [
    "head_of_db = getch('SELECT * FROM {db}.feed_actions limit 1')"
   ]
  },
  {
   "cell_type": "code",
   "execution_count": 4,
   "id": "abab41da-76b2-4d4d-88a2-00345a4edae4",
   "metadata": {},
   "outputs": [
    {
     "data": {
      "text/html": [
       "<div>\n",
       "<style scoped>\n",
       "    .dataframe tbody tr th:only-of-type {\n",
       "        vertical-align: middle;\n",
       "    }\n",
       "\n",
       "    .dataframe tbody tr th {\n",
       "        vertical-align: top;\n",
       "    }\n",
       "\n",
       "    .dataframe thead th {\n",
       "        text-align: right;\n",
       "    }\n",
       "</style>\n",
       "<table border=\"1\" class=\"dataframe\">\n",
       "  <thead>\n",
       "    <tr style=\"text-align: right;\">\n",
       "      <th></th>\n",
       "      <th>user_id</th>\n",
       "      <th>post_id</th>\n",
       "      <th>action</th>\n",
       "      <th>time</th>\n",
       "      <th>gender</th>\n",
       "      <th>age</th>\n",
       "      <th>country</th>\n",
       "      <th>city</th>\n",
       "      <th>os</th>\n",
       "      <th>source</th>\n",
       "      <th>exp_group</th>\n",
       "    </tr>\n",
       "  </thead>\n",
       "  <tbody>\n",
       "    <tr>\n",
       "      <th>0</th>\n",
       "      <td>106791</td>\n",
       "      <td>76</td>\n",
       "      <td>view</td>\n",
       "      <td>2023-08-02 00:26:19</td>\n",
       "      <td>0</td>\n",
       "      <td>45</td>\n",
       "      <td>Russia</td>\n",
       "      <td>Chelyabinsk</td>\n",
       "      <td>iOS</td>\n",
       "      <td>ads</td>\n",
       "      <td>3</td>\n",
       "    </tr>\n",
       "  </tbody>\n",
       "</table>\n",
       "</div>"
      ],
      "text/plain": [
       "   user_id  post_id action                time  gender  age country  \\\n",
       "0   106791       76   view 2023-08-02 00:26:19       0   45  Russia   \n",
       "\n",
       "          city   os source  exp_group  \n",
       "0  Chelyabinsk  iOS    ads          3  "
      ]
     },
     "execution_count": 4,
     "metadata": {},
     "output_type": "execute_result"
    }
   ],
   "source": [
    "head_of_db.df"
   ]
  },
  {
   "cell_type": "markdown",
   "id": "6a8ad081-497f-4871-bf02-dbae58ba139d",
   "metadata": {},
   "source": [
    "Напишем запрос с целью получить агрегированные данные по просмотрам, лайкам, ctr, для каждого пользователя. Рассматриваемый промежуток времени 2023.08.22 - 2023.08.28"
   ]
  },
  {
   "cell_type": "code",
   "execution_count": 5,
   "id": "6c37a767-27d7-4202-a1ac-e2031569df64",
   "metadata": {},
   "outputs": [],
   "source": [
    "aagroup = getch('''\n",
    "    SELECT user_id,\n",
    "    countIf(action='like') as like,\n",
    "    countIf(action='view') as view,\n",
    "    exp_group,\n",
    "    like / view as ctr\n",
    "    FROM {db}.feed_actions \n",
    "    where exp_group between 2 and 3\n",
    "        and toDate(time) between '2023-08-22' and '2023-08-28'\n",
    "    group by user_id, exp_group\n",
    "    ''') "
   ]
  },
  {
   "cell_type": "markdown",
   "id": "ef701b86-094f-4dc6-90ee-d3127fb0b412",
   "metadata": {},
   "source": [
    "Посмотрим на общие данные в полученном датафрейме, а так же проверим на полные дубликаты все строчки."
   ]
  },
  {
   "cell_type": "code",
   "execution_count": 6,
   "id": "6e7dbb91-efd4-4c59-b909-aaa4c0f30049",
   "metadata": {},
   "outputs": [
    {
     "name": "stdout",
     "output_type": "stream",
     "text": [
      "<class 'pandas.core.frame.DataFrame'>\n",
      "RangeIndex: 16787 entries, 0 to 16786\n",
      "Data columns (total 5 columns):\n",
      " #   Column     Non-Null Count  Dtype  \n",
      "---  ------     --------------  -----  \n",
      " 0   user_id    16787 non-null  uint32 \n",
      " 1   like       16787 non-null  uint64 \n",
      " 2   view       16787 non-null  uint64 \n",
      " 3   exp_group  16787 non-null  int8   \n",
      " 4   ctr        16787 non-null  float64\n",
      "dtypes: float64(1), int8(1), uint32(1), uint64(2)\n",
      "memory usage: 475.5 KB\n"
     ]
    }
   ],
   "source": [
    "aagroup.df.info()"
   ]
  },
  {
   "cell_type": "code",
   "execution_count": 7,
   "id": "0a8c9cf5-43c4-458b-93f4-90c68f093d35",
   "metadata": {},
   "outputs": [
    {
     "data": {
      "text/plain": [
       "0"
      ]
     },
     "execution_count": 7,
     "metadata": {},
     "output_type": "execute_result"
    }
   ],
   "source": [
    "aagroup.df.duplicated().sum()"
   ]
  },
  {
   "cell_type": "markdown",
   "id": "670ca811-6e69-48e9-904e-783f4d251215",
   "metadata": {},
   "source": [
    "Посчитаем количество пользователей в каждой группе"
   ]
  },
  {
   "cell_type": "code",
   "execution_count": 8,
   "id": "d714f989-28b4-42f4-b724-4b95c512421c",
   "metadata": {},
   "outputs": [
    {
     "data": {
      "text/plain": [
       "exp_group\n",
       "3    8425\n",
       "2    8362\n",
       "Name: count, dtype: int64"
      ]
     },
     "execution_count": 8,
     "metadata": {},
     "output_type": "execute_result"
    }
   ],
   "source": [
    "aagroup.df['exp_group'].value_counts()"
   ]
  },
  {
   "cell_type": "markdown",
   "id": "14c0b3e3-8cc8-4196-9869-7b35614fa400",
   "metadata": {},
   "source": [
    "Итого: у нас имеется 16787 записей, которые делятся на две группы.\n",
    "1. Группа 3 - включает в себя 8425 записей\n",
    "2. Группа 2 - включает в себя 8362 записи"
   ]
  },
  {
   "cell_type": "markdown",
   "id": "3a7fcde4-927e-4a17-a466-2f3bb234994f",
   "metadata": {},
   "source": [
    "Проверим количество пользователей попавших в две группы"
   ]
  },
  {
   "cell_type": "code",
   "execution_count": 9,
   "id": "e73477b3-e164-4f19-a616-2f0b3c617d56",
   "metadata": {},
   "outputs": [
    {
     "data": {
      "text/plain": [
       "Series([], Name: count, dtype: float64)"
      ]
     },
     "execution_count": 9,
     "metadata": {},
     "output_type": "execute_result"
    }
   ],
   "source": [
    "aagroup.df['user_id'].value_counts().where(lambda x: x > 1).dropna().sort_values(ascending=False)"
   ]
  },
  {
   "cell_type": "markdown",
   "id": "942f1455-c182-49df-86b5-691933ca3a1f",
   "metadata": {},
   "source": [
    "Количество пользователей оказавшихся в двух группах равно 0"
   ]
  },
  {
   "cell_type": "code",
   "execution_count": 10,
   "id": "5f880ca4-62a0-4392-9610-5e0ed47fb8db",
   "metadata": {},
   "outputs": [
    {
     "data": {
      "image/png": "[encoded data removed]",
      "text/plain": [
       "<Figure size 1440x576 with 1 Axes>"
      ]
     },
     "metadata": {
      "needs_background": "light"
     },
     "output_type": "display_data"
    }
   ],
   "source": [
    "plt.figure(figsize=(20,8))\n",
    "plt.title('Частотный график CTR')\n",
    "sns.histplot(data=aagroup.df[['ctr', 'exp_group']],x='ctr', hue='exp_group', palette = ['y', 'b'], alpha = 0.4);"
   ]
  },
  {
   "cell_type": "markdown",
   "id": "ae3d4655-9fda-4aa0-971b-4918e231b44e",
   "metadata": {},
   "source": [
    "Проведем симуляцию 10 000 А/А тестов на базе группы 2 и 3. Для этого при каждой итерации случайно будем формировать подвыборки по 500 пользователей из группы 2 и 3 и сравнить их средний CTR t-тестом. Создадим список, включающий все полученные p-value, и далее посмотрим как много p-value оказалось ниже или равно 0.05.\n",
    "- H0 - средние между группами равны\n",
    "- H1 - средние между группами не равны"
   ]
  },
  {
   "cell_type": "code",
   "execution_count": 11,
   "id": "e02f096e-af85-4e1a-a999-6edda1532e45",
   "metadata": {},
   "outputs": [],
   "source": [
    "p_value_list = []\n",
    "test_cnt = 10000\n",
    "group_sample = 500"
   ]
  },
  {
   "cell_type": "code",
   "execution_count": 12,
   "id": "4e71888b-6699-4793-80ec-38d373e59c4c",
   "metadata": {},
   "outputs": [],
   "source": [
    "for i in range(0, test_cnt): \n",
    "    p_value_list.append(st.ttest_ind(\n",
    "        aagroup.df.query('exp_group == 2').sample(group_sample, random_state=i)['ctr'], \n",
    "        aagroup.df.query('exp_group == 3').sample(group_sample, random_state=i)['ctr'], \n",
    "        equal_var=False\n",
    "    )[1])"
   ]
  },
  {
   "cell_type": "code",
   "execution_count": 13,
   "id": "5b4c4282-a09e-4ee7-8b15-28b5652c4b18",
   "metadata": {},
   "outputs": [
    {
     "data": {
      "image/png": "[encoded data removed]",
      "text/plain": [
       "<Figure size 1440x576 with 1 Axes>"
      ]
     },
     "metadata": {
      "needs_background": "light"
     },
     "output_type": "display_data"
    }
   ],
   "source": [
    "plt.figure(figsize=(20,8))\n",
    "plt.title('Гистограмма распределения 10 000 p_value')\n",
    "sns.histplot(data = pd.DataFrame(p_value_list, columns=['p_value']), bins=100);"
   ]
  },
  {
   "cell_type": "markdown",
   "id": "ec87ff49-e81c-475a-b232-c7868bb90c03",
   "metadata": {},
   "source": [
    "Посчитаем какой тестов оказался меньше или равен 0.05"
   ]
  },
  {
   "cell_type": "code",
   "execution_count": 14,
   "id": "dad3cfe3-0893-451e-8f29-cf819b95aa77",
   "metadata": {},
   "outputs": [
    {
     "name": "stdout",
     "output_type": "stream",
     "text": [
      "При проведении 10 000 тестов по сравнению средних CTR из подвыборок 500 уникальных пользователей 4.29 процентов тестов показало статистически значимую разницу между подгруппами (средние не были равны)\n"
     ]
    }
   ],
   "source": [
    "print(\n",
    "    'При проведении 10 000 тестов по сравнению средних CTR из подвыборок 500 уникальных пользователей', \n",
    "    (pd.DataFrame(p_value_list, columns=['p_value']).query('p_value <= 0.05').agg('count').values[0] / test_cnt) * 100, \n",
    "    'процентов тестов показало статистически значимую разницу между подгруппами (средние не были равны)'\n",
    ")"
   ]
  },
  {
   "cell_type": "markdown",
   "id": "0b5b9d02-cabd-4ed9-9f81-9dc185cf0aea",
   "metadata": {},
   "source": [
    "Проверим равенство средних t-тестом между всей группой 2 и группой 3\n",
    "1. H0 - средние между группами равны\n",
    "2. H1 - средние между группами не равны\n",
    "\n",
    "a=0.05"
   ]
  },
  {
   "cell_type": "code",
   "execution_count": 15,
   "id": "4131fc74-6045-4a17-a5e7-921359529710",
   "metadata": {},
   "outputs": [
    {
     "name": "stdout",
     "output_type": "stream",
     "text": [
      "p_value = 0.51, как следствие мы не можем отклонить нулевую гипотезу в пользу альтернативной\n"
     ]
    }
   ],
   "source": [
    "a=0.05\n",
    "p_value_group_2_3 = st.ttest_ind(\n",
    "                                aagroup.df.query('exp_group == 2')['ctr'], \n",
    "                                aagroup.df.query('exp_group == 3')['ctr'], \n",
    "                                equal_var=False\n",
    "                            )[1]\n",
    "\n",
    "if p_value_group_2_3 <=0.5:\n",
    "    print(f'p_value = {round(p_value_group_2_3, 2)}, как следствие мы отклоняем нулевую гипотезу в пользу альтернативной')\n",
    "else:\n",
    "    print(f'p_value = {round(p_value_group_2_3, 2)}, как следствие мы не можем отклонить нулевую гипотезу в пользу альтернативной')"
   ]
  },
  {
   "cell_type": "markdown",
   "id": "82770617-8a11-4036-a6fd-40383c8f5c6a",
   "metadata": {},
   "source": [
    "## ВЫВОД\n",
    "\n",
    "После проведенных тестов и симуляции можно сделать вывод что:\n",
    "1. Группы получились более менее равного размера\n",
    "2. При проведении 10 000 симуляций А/А теста, менее 5% тестов показали статистически значимую разницу между группами, при установленном уровне стат.значимости 0.05\n",
    "3. При сравнении двух выборок целиком было получено p_value = 0.51, что не позволяет отвергнуть нулевую гипотезу о равенстве средних \n",
    "4. Система сплитирования работает корректно"
   ]
  },
  {
   "cell_type": "code",
   "execution_count": null,
   "id": "c1b4784f-e5e5-4db7-960b-58f55eb00e37",
   "metadata": {},
   "outputs": [],
   "source": []
  }
 ],
 "metadata": {
  "kernelspec": {
   "display_name": "Python 3 (ipykernel)",
   "language": "python",
   "name": "python3"
  },
  "language_info": {
   "codemirror_mode": {
    "name": "ipython",
    "version": 3
   },
   "file_extension": ".py",
   "mimetype": "text/x-python",
   "name": "python",
   "nbconvert_exporter": "python",
   "pygments_lexer": "ipython3",
   "version": "3.11.5"
  }
 },
 "nbformat": 4,
 "nbformat_minor": 5
}
