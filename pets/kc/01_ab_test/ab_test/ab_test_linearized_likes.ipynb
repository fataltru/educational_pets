{
 "cells": [
  {
   "cell_type": "markdown",
   "id": "c89d7197-bd03-4819-984f-6a685403267f",
   "metadata": {},
   "source": [
    "# Анализ A/B теста linearized likes"
   ]
  },
  {
   "cell_type": "markdown",
   "id": "eecb9559-f5d7-46af-aa13-dc1c73002884",
   "metadata": {},
   "source": [
    "## Общие данные и цели исследования\n",
    "\n",
    "Изучение метрики линеаризованных лайков\n",
    "\n",
    "Имеются данные А/B-теста (группы 1 и 2) с '2023-08-29' по '2023-09-04'. В группе 2 (тестовой) был использован новый алгоритм рекомендации постов. Группа 1 контрольная.\n",
    "A/B тест проводит с целью определить изменения показателя CTR (увеличения CTR у тестовой группы по сравнению с контрольной)\n",
    "\n",
    "Так же рассмотрим группы 0 и 3 за тот же период\n",
    "\n",
    "Результаты A/B теста будем проверять через следующие стат.тесты:\n",
    "\n",
    "1. t-тест на обычном CTR и на линеаризованных лайках\n",
    "\n",
    "Стуктура данных\n",
    "- user_id - уникальный идентификатор пользователя\n",
    "- post_id - уникальный идентификатор поста\n",
    "- action - действие (просмотр/лайк)\n",
    "- time - дата и время действия\n",
    "- gender - гендер\n",
    "- age - возраст\n",
    "- country - страна\n",
    "- city - город\n",
    "- os - операционная система\n",
    "- source - источник откуда пришел пользователь\n",
    "- exp_group - номер группы тестирования"
   ]
  },
  {
   "cell_type": "markdown",
   "id": "8903b298-a682-4f24-b879-8c1fcbae877e",
   "metadata": {
    "tags": []
   },
   "source": [
    "## Блок общих функций и импорта библиотек"
   ]
  },
  {
   "cell_type": "code",
   "execution_count": 2,
   "id": "5fd9e5de-057c-42c9-ade3-2ba50deaec22",
   "metadata": {},
   "outputs": [],
   "source": [
    "#импорт из стандартной библиотеки\n",
    "import hashlib as hl\n",
    "\n",
    "#импорт сторонних библиотек\n",
    "import pandas as pd\n",
    "import numpy as np\n",
    "from matplotlib import pyplot as plt\n",
    "import seaborn as sns\n",
    "from scipy import stats as st\n",
    "import pandahouse as ph"
   ]
  },
  {
   "cell_type": "markdown",
   "id": "d1d5b8d9-7227-4861-8f2b-b4bff3b5e105",
   "metadata": {},
   "source": [
    "Создадим класс для подключения к БД и получения результатов запроса"
   ]
  },
  {
   "cell_type": "code",
   "execution_count": 3,
   "id": "7ab737f6-3dd1-4782-81b8-a2794ec6e252",
   "metadata": {},
   "outputs": [],
   "source": [
    "class getch:\n",
    "    def __init__(self, query, db=''):\n",
    "        self.connection = {\n",
    "            'host': '',\n",
    "            'password': '',\n",
    "            'user': '',\n",
    "            'database': db,\n",
    "        }\n",
    "        self.query = query\n",
    "        self.getchdf\n",
    "\n",
    "    @property\n",
    "    def getchdf(self):\n",
    "        try:\n",
    "            self.df = ph.read_clickhouse(self.query, connection=self.connection)\n",
    "\n",
    "        except Exception as err:\n",
    "            print(\"\\033[31m {}\".format(err))\n",
    "            exit(0)"
   ]
  },
  {
   "cell_type": "markdown",
   "id": "53ec398d-ce4a-47ed-960d-f15ed8a2a140",
   "metadata": {},
   "source": [
    "Создадим функцию для расчета и вывода результатов t-теста"
   ]
  },
  {
   "cell_type": "code",
   "execution_count": 4,
   "id": "560de3d3-1979-4398-adf4-3f9b41d77524",
   "metadata": {},
   "outputs": [],
   "source": [
    "def ttest_start(a_group, b_group, column='ctr', a=0.05, hypotesis='two-sided') -> float:\n",
    "    p_value = st.ttest_ind(a_group[column], b_group[column], equal_var=False, alternative = hypotesis)[1]\n",
    "    if p_value <= a:\n",
    "        print(f'p_value = {p_value}, как следствие мы отклоняем нулевую гипотезу в пользу альтернативной')\n",
    "    else:\n",
    "        print(f'p_value = {p_value}, как следствие мы не можем отклонить нулевую гипотезу в пользу альтернативной')\n",
    "    return None"
   ]
  },
  {
   "cell_type": "markdown",
   "id": "71865576-f182-425d-a987-e4adbf35e6b9",
   "metadata": {},
   "source": [
    "## Загрузка данных и подготовка их к исследованию"
   ]
  },
  {
   "cell_type": "markdown",
   "id": "0b2da3f8-7e21-46d8-83dc-05cab9871b69",
   "metadata": {},
   "source": [
    "Загрузим первую строку, и посмотрим на структуру"
   ]
  },
  {
   "cell_type": "code",
   "execution_count": 5,
   "id": "b87ffd74-c339-4845-a527-162a4bf5b7f8",
   "metadata": {},
   "outputs": [],
   "source": [
    "head_of_db = getch('SELECT * FROM {db}.feed_actions limit 1')"
   ]
  },
  {
   "cell_type": "code",
   "execution_count": 6,
   "id": "abab41da-76b2-4d4d-88a2-00345a4edae4",
   "metadata": {},
   "outputs": [
    {
     "data": {
      "text/html": [
       "<div>\n",
       "<style scoped>\n",
       "    .dataframe tbody tr th:only-of-type {\n",
       "        vertical-align: middle;\n",
       "    }\n",
       "\n",
       "    .dataframe tbody tr th {\n",
       "        vertical-align: top;\n",
       "    }\n",
       "\n",
       "    .dataframe thead th {\n",
       "        text-align: right;\n",
       "    }\n",
       "</style>\n",
       "<table border=\"1\" class=\"dataframe\">\n",
       "  <thead>\n",
       "    <tr style=\"text-align: right;\">\n",
       "      <th></th>\n",
       "      <th>user_id</th>\n",
       "      <th>post_id</th>\n",
       "      <th>action</th>\n",
       "      <th>time</th>\n",
       "      <th>gender</th>\n",
       "      <th>age</th>\n",
       "      <th>country</th>\n",
       "      <th>city</th>\n",
       "      <th>os</th>\n",
       "      <th>source</th>\n",
       "      <th>exp_group</th>\n",
       "    </tr>\n",
       "  </thead>\n",
       "  <tbody>\n",
       "    <tr>\n",
       "      <th>0</th>\n",
       "      <td>151307</td>\n",
       "      <td>3596</td>\n",
       "      <td>view</td>\n",
       "      <td>2023-09-20 07:45:26</td>\n",
       "      <td>0</td>\n",
       "      <td>21</td>\n",
       "      <td>Russia</td>\n",
       "      <td>Krasnoyarsk</td>\n",
       "      <td>Android</td>\n",
       "      <td>organic</td>\n",
       "      <td>4</td>\n",
       "    </tr>\n",
       "  </tbody>\n",
       "</table>\n",
       "</div>"
      ],
      "text/plain": [
       "   user_id  post_id action                time  gender  age country  \\\n",
       "0   151307     3596   view 2023-09-20 07:45:26       0   21  Russia   \n",
       "\n",
       "          city       os   source  exp_group  \n",
       "0  Krasnoyarsk  Android  organic          4  "
      ]
     },
     "execution_count": 6,
     "metadata": {},
     "output_type": "execute_result"
    }
   ],
   "source": [
    "head_of_db.df"
   ]
  },
  {
   "cell_type": "code",
   "execution_count": 7,
   "id": "6c37a767-27d7-4202-a1ac-e2031569df64",
   "metadata": {},
   "outputs": [],
   "source": [
    "abgroup = getch('''\n",
    "    SELECT user_id,\n",
    "    countIf(action='like') as like,\n",
    "    countIf(action='view') as view,\n",
    "    exp_group,\n",
    "    like / view as ctr\n",
    "    FROM {db}.feed_actions \n",
    "    where exp_group between 0 and 3\n",
    "        and toDate(time) between '2023-08-29' and '2023-09-04'\n",
    "    group by user_id, exp_group\n",
    "    ''') "
   ]
  },
  {
   "cell_type": "markdown",
   "id": "24a71f2a-c42d-47d1-8668-c744a4e65a5c",
   "metadata": {},
   "source": [
    "Посмотрим на общие данные в полученном датафрейме, а так же проверим на полные дубликаты все строчки."
   ]
  },
  {
   "cell_type": "code",
   "execution_count": 8,
   "id": "6e7dbb91-efd4-4c59-b909-aaa4c0f30049",
   "metadata": {},
   "outputs": [
    {
     "name": "stdout",
     "output_type": "stream",
     "text": [
      "<class 'pandas.core.frame.DataFrame'>\n",
      "RangeIndex: 39819 entries, 0 to 39818\n",
      "Data columns (total 5 columns):\n",
      " #   Column     Non-Null Count  Dtype  \n",
      "---  ------     --------------  -----  \n",
      " 0   user_id    39819 non-null  uint32 \n",
      " 1   like       39819 non-null  uint64 \n",
      " 2   view       39819 non-null  uint64 \n",
      " 3   exp_group  39819 non-null  int8   \n",
      " 4   ctr        39819 non-null  float64\n",
      "dtypes: float64(1), int8(1), uint32(1), uint64(2)\n",
      "memory usage: 1.1 MB\n"
     ]
    }
   ],
   "source": [
    "abgroup.df.info()"
   ]
  },
  {
   "cell_type": "code",
   "execution_count": 9,
   "id": "0a8c9cf5-43c4-458b-93f4-90c68f093d35",
   "metadata": {},
   "outputs": [
    {
     "data": {
      "text/plain": [
       "0"
      ]
     },
     "execution_count": 9,
     "metadata": {},
     "output_type": "execute_result"
    }
   ],
   "source": [
    "abgroup.df.duplicated().sum()"
   ]
  },
  {
   "cell_type": "markdown",
   "id": "4031ebe4-c6dd-4a14-bde2-b524b6f5b4b4",
   "metadata": {},
   "source": [
    "Посмотрим на количество пользователей в группах"
   ]
  },
  {
   "cell_type": "code",
   "execution_count": 10,
   "id": "d714f989-28b4-42f4-b724-4b95c512421c",
   "metadata": {},
   "outputs": [
    {
     "data": {
      "text/plain": [
       "exp_group\n",
       "1    10020\n",
       "3    10002\n",
       "0     9920\n",
       "2     9877\n",
       "Name: count, dtype: int64"
      ]
     },
     "execution_count": 10,
     "metadata": {},
     "output_type": "execute_result"
    }
   ],
   "source": [
    "abgroup.df['exp_group'].value_counts()"
   ]
  },
  {
   "cell_type": "code",
   "execution_count": 11,
   "id": "4eae88d3-a0df-4723-89cd-e2959d673ca1",
   "metadata": {},
   "outputs": [],
   "source": [
    "ctr_control_3 = abgroup.df.query('exp_group == 3')['like'].sum() / abgroup.df.query('exp_group == 3')['view'].sum()\n",
    "ctr_control_2 = abgroup.df.query('exp_group == 2')['like'].sum() / abgroup.df.query('exp_group == 2')['view'].sum()"
   ]
  },
  {
   "cell_type": "code",
   "execution_count": 12,
   "id": "342b30fc-f918-41a1-8052-b61a4f8a530b",
   "metadata": {},
   "outputs": [],
   "source": [
    "abgroup.df['lin_like'] = (\n",
    "    abgroup.df['like'] - (\n",
    "        abgroup.df['exp_group'].map({0: ctr_control_3, 1: ctr_control_2, 2: ctr_control_2, 3: ctr_control_3}) \n",
    "        * abgroup.df['view']\n",
    "    )\n",
    ")"
   ]
  },
  {
   "cell_type": "code",
   "execution_count": 13,
   "id": "d92ba547-7405-4ffa-ae81-12714942b2b9",
   "metadata": {},
   "outputs": [
    {
     "data": {
      "text/html": [
       "<div>\n",
       "<style scoped>\n",
       "    .dataframe tbody tr th:only-of-type {\n",
       "        vertical-align: middle;\n",
       "    }\n",
       "\n",
       "    .dataframe tbody tr th {\n",
       "        vertical-align: top;\n",
       "    }\n",
       "\n",
       "    .dataframe thead th {\n",
       "        text-align: right;\n",
       "    }\n",
       "</style>\n",
       "<table border=\"1\" class=\"dataframe\">\n",
       "  <thead>\n",
       "    <tr style=\"text-align: right;\">\n",
       "      <th></th>\n",
       "      <th>user_id</th>\n",
       "      <th>like</th>\n",
       "      <th>view</th>\n",
       "      <th>exp_group</th>\n",
       "      <th>ctr</th>\n",
       "      <th>lin_like</th>\n",
       "    </tr>\n",
       "  </thead>\n",
       "  <tbody>\n",
       "    <tr>\n",
       "      <th>11141</th>\n",
       "      <td>115345</td>\n",
       "      <td>9</td>\n",
       "      <td>49</td>\n",
       "      <td>3</td>\n",
       "      <td>0.183673</td>\n",
       "      <td>-2.084156</td>\n",
       "    </tr>\n",
       "    <tr>\n",
       "      <th>2637</th>\n",
       "      <td>30199</td>\n",
       "      <td>9</td>\n",
       "      <td>78</td>\n",
       "      <td>1</td>\n",
       "      <td>0.115385</td>\n",
       "      <td>-6.619540</td>\n",
       "    </tr>\n",
       "    <tr>\n",
       "      <th>30117</th>\n",
       "      <td>108009</td>\n",
       "      <td>5</td>\n",
       "      <td>17</td>\n",
       "      <td>0</td>\n",
       "      <td>0.294118</td>\n",
       "      <td>1.154477</td>\n",
       "    </tr>\n",
       "    <tr>\n",
       "      <th>26692</th>\n",
       "      <td>8782</td>\n",
       "      <td>7</td>\n",
       "      <td>80</td>\n",
       "      <td>3</td>\n",
       "      <td>0.087500</td>\n",
       "      <td>-11.096581</td>\n",
       "    </tr>\n",
       "    <tr>\n",
       "      <th>38330</th>\n",
       "      <td>135240</td>\n",
       "      <td>33</td>\n",
       "      <td>192</td>\n",
       "      <td>0</td>\n",
       "      <td>0.171875</td>\n",
       "      <td>-10.431793</td>\n",
       "    </tr>\n",
       "    <tr>\n",
       "      <th>27890</th>\n",
       "      <td>15403</td>\n",
       "      <td>3</td>\n",
       "      <td>45</td>\n",
       "      <td>2</td>\n",
       "      <td>0.066667</td>\n",
       "      <td>-6.011273</td>\n",
       "    </tr>\n",
       "    <tr>\n",
       "      <th>1131</th>\n",
       "      <td>114353</td>\n",
       "      <td>5</td>\n",
       "      <td>31</td>\n",
       "      <td>1</td>\n",
       "      <td>0.161290</td>\n",
       "      <td>-1.207766</td>\n",
       "    </tr>\n",
       "    <tr>\n",
       "      <th>14253</th>\n",
       "      <td>33297</td>\n",
       "      <td>26</td>\n",
       "      <td>64</td>\n",
       "      <td>0</td>\n",
       "      <td>0.406250</td>\n",
       "      <td>11.522736</td>\n",
       "    </tr>\n",
       "    <tr>\n",
       "      <th>8270</th>\n",
       "      <td>130377</td>\n",
       "      <td>19</td>\n",
       "      <td>160</td>\n",
       "      <td>2</td>\n",
       "      <td>0.118750</td>\n",
       "      <td>-13.040082</td>\n",
       "    </tr>\n",
       "    <tr>\n",
       "      <th>27952</th>\n",
       "      <td>123635</td>\n",
       "      <td>11</td>\n",
       "      <td>34</td>\n",
       "      <td>3</td>\n",
       "      <td>0.323529</td>\n",
       "      <td>3.308953</td>\n",
       "    </tr>\n",
       "  </tbody>\n",
       "</table>\n",
       "</div>"
      ],
      "text/plain": [
       "       user_id  like  view  exp_group       ctr   lin_like\n",
       "11141   115345     9    49          3  0.183673  -2.084156\n",
       "2637     30199     9    78          1  0.115385  -6.619540\n",
       "30117   108009     5    17          0  0.294118   1.154477\n",
       "26692     8782     7    80          3  0.087500 -11.096581\n",
       "38330   135240    33   192          0  0.171875 -10.431793\n",
       "27890    15403     3    45          2  0.066667  -6.011273\n",
       "1131    114353     5    31          1  0.161290  -1.207766\n",
       "14253    33297    26    64          0  0.406250  11.522736\n",
       "8270    130377    19   160          2  0.118750 -13.040082\n",
       "27952   123635    11    34          3  0.323529   3.308953"
      ]
     },
     "execution_count": 13,
     "metadata": {},
     "output_type": "execute_result"
    }
   ],
   "source": [
    "abgroup.df.sample(10, random_state=100)"
   ]
  },
  {
   "cell_type": "code",
   "execution_count": 14,
   "id": "5234ae7e-ffc5-4917-a4cc-ce88d9b50222",
   "metadata": {},
   "outputs": [],
   "source": [
    "group_0_3 = abgroup.df.query('exp_group == 0 or exp_group == 3')\n",
    "group_1_2 = abgroup.df.query('exp_group == 1 or exp_group == 2')"
   ]
  },
  {
   "cell_type": "markdown",
   "id": "c5c22819-9478-433a-a322-e26b06617902",
   "metadata": {},
   "source": [
    "Построим распределение по обычному CTR"
   ]
  },
  {
   "cell_type": "code",
   "execution_count": 21,
   "id": "5f880ca4-62a0-4392-9610-5e0ed47fb8db",
   "metadata": {},
   "outputs": [
    {
     "data": {
      "text/plain": [
       "<Axes: title={'center': 'linearized_like'}, xlabel='lin_like', ylabel='Count'>"
      ]
     },
     "execution_count": 21,
     "metadata": {},
     "output_type": "execute_result"
    },
    {
     "data": {
      "image/png": "[encoded data removed]",
      "text/plain": [
       "<Figure size 1584x720 with 2 Axes>"
      ]
     },
     "metadata": {
      "needs_background": "light"
     },
     "output_type": "display_data"
    }
   ],
   "source": [
    "fig, axs = plt.subplots(2,1, figsize=(22,10))\n",
    "plt.suptitle('Гистограммы метрик групп 0 и 3', fontsize=20)\n",
    "axs[0].set_title('CTR')\n",
    "sns.histplot(data = group_0_3, x='ctr', hue='exp_group', palette = ['y', 'b'], alpha = 0.4, ax=axs[0])\n",
    "axs[1].set_title('linearized_like')\n",
    "sns.histplot(data = group_0_3, x='lin_like', hue='exp_group', palette = ['y', 'b'], alpha = 0.4, ax=axs[1])\n",
    "plt.show()"
   ]
  },
  {
   "cell_type": "markdown",
   "id": "e7abe2c1-2cc1-4617-a6c0-e1dfdf6d7869",
   "metadata": {},
   "source": [
    "Посмотрим на средние значения метрик"
   ]
  },
  {
   "cell_type": "code",
   "execution_count": 77,
   "id": "bc7ba31d-97a3-446e-87fb-8ad2be1bce72",
   "metadata": {},
   "outputs": [
    {
     "data": {
      "text/html": [
       "<div>\n",
       "<style scoped>\n",
       "    .dataframe tbody tr th:only-of-type {\n",
       "        vertical-align: middle;\n",
       "    }\n",
       "\n",
       "    .dataframe tbody tr th {\n",
       "        vertical-align: top;\n",
       "    }\n",
       "\n",
       "    .dataframe thead th {\n",
       "        text-align: right;\n",
       "    }\n",
       "</style>\n",
       "<table border=\"1\" class=\"dataframe\">\n",
       "  <thead>\n",
       "    <tr style=\"text-align: right;\">\n",
       "      <th></th>\n",
       "      <th>lin_like</th>\n",
       "      <th>ctr</th>\n",
       "    </tr>\n",
       "    <tr>\n",
       "      <th>exp_group</th>\n",
       "      <th></th>\n",
       "      <th></th>\n",
       "    </tr>\n",
       "  </thead>\n",
       "  <tbody>\n",
       "    <tr>\n",
       "      <th>0</th>\n",
       "      <td>-1.1065</td>\n",
       "      <td>0.2169</td>\n",
       "    </tr>\n",
       "    <tr>\n",
       "      <th>3</th>\n",
       "      <td>0.0000</td>\n",
       "      <td>0.2332</td>\n",
       "    </tr>\n",
       "  </tbody>\n",
       "</table>\n",
       "</div>"
      ],
      "text/plain": [
       "           lin_like     ctr\n",
       "exp_group                  \n",
       "0           -1.1065  0.2169\n",
       "3            0.0000  0.2332"
      ]
     },
     "execution_count": 77,
     "metadata": {},
     "output_type": "execute_result"
    }
   ],
   "source": [
    "group_0_3.groupby('exp_group')[['lin_like', 'ctr']].mean().round(4)"
   ]
  },
  {
   "cell_type": "code",
   "execution_count": 22,
   "id": "c680352e-e654-46bc-aba8-360d5232c910",
   "metadata": {},
   "outputs": [
    {
     "data": {
      "text/plain": [
       "<Axes: title={'center': 'linearized_like'}, xlabel='lin_like', ylabel='Count'>"
      ]
     },
     "execution_count": 22,
     "metadata": {},
     "output_type": "execute_result"
    },
    {
     "data": {
      "image/png": "[encoded data removed]",
      "text/plain": [
       "<Figure size 1584x720 with 2 Axes>"
      ]
     },
     "metadata": {
      "needs_background": "light"
     },
     "output_type": "display_data"
    }
   ],
   "source": [
    "fig, axs = plt.subplots(2,1, figsize=(22,10))\n",
    "plt.suptitle('Гистограммы метрик групп 1 и 2', fontsize=20)\n",
    "axs[0].set_title('CTR')\n",
    "sns.histplot(data = group_1_2, x='ctr', hue='exp_group', palette = ['y', 'b'], alpha = 0.4, ax=axs[0])\n",
    "axs[1].set_title('linearized_like')\n",
    "sns.histplot(data = group_1_2, x='lin_like', hue='exp_group', palette = ['y', 'b'], alpha = 0.4, ax=axs[1])\n",
    "plt.show()"
   ]
  },
  {
   "cell_type": "markdown",
   "id": "69c06e2e-6389-4358-825a-f02e4487d797",
   "metadata": {},
   "source": [
    "Посмотрим на средние значения метрик"
   ]
  },
  {
   "cell_type": "code",
   "execution_count": 66,
   "id": "0854a2d6-3dbd-4feb-a71f-07cd6b9b67ab",
   "metadata": {},
   "outputs": [
    {
     "data": {
      "text/html": [
       "<div>\n",
       "<style scoped>\n",
       "    .dataframe tbody tr th:only-of-type {\n",
       "        vertical-align: middle;\n",
       "    }\n",
       "\n",
       "    .dataframe tbody tr th {\n",
       "        vertical-align: top;\n",
       "    }\n",
       "\n",
       "    .dataframe thead th {\n",
       "        text-align: right;\n",
       "    }\n",
       "</style>\n",
       "<table border=\"1\" class=\"dataframe\">\n",
       "  <thead>\n",
       "    <tr style=\"text-align: right;\">\n",
       "      <th></th>\n",
       "      <th>lin_like</th>\n",
       "      <th>ctr</th>\n",
       "    </tr>\n",
       "    <tr>\n",
       "      <th>exp_group</th>\n",
       "      <th></th>\n",
       "      <th></th>\n",
       "    </tr>\n",
       "  </thead>\n",
       "  <tbody>\n",
       "    <tr>\n",
       "      <th>1</th>\n",
       "      <td>0.625</td>\n",
       "      <td>0.2168</td>\n",
       "    </tr>\n",
       "    <tr>\n",
       "      <th>2</th>\n",
       "      <td>-0.000</td>\n",
       "      <td>0.2161</td>\n",
       "    </tr>\n",
       "  </tbody>\n",
       "</table>\n",
       "</div>"
      ],
      "text/plain": [
       "           lin_like     ctr\n",
       "exp_group                  \n",
       "1             0.625  0.2168\n",
       "2            -0.000  0.2161"
      ]
     },
     "execution_count": 66,
     "metadata": {},
     "output_type": "execute_result"
    }
   ],
   "source": [
    "group_1_2.groupby('exp_group')[['lin_like', 'ctr']].mean().round(4)"
   ]
  },
  {
   "cell_type": "markdown",
   "id": "20eda269-ddb8-4878-ab48-7c18b7164bff",
   "metadata": {},
   "source": [
    "Установим уровень значимости и сформируем переменные с группами A и B"
   ]
  },
  {
   "cell_type": "code",
   "execution_count": 74,
   "id": "bdeb4a91-c58e-4c5a-b8d5-8f95bcee2f63",
   "metadata": {},
   "outputs": [],
   "source": [
    "a=0.05\n",
    "a_group_0 = group_0_3.query('exp_group == 0')\n",
    "b_group_3 = group_0_3.query('exp_group == 3')\n",
    "\n",
    "a_group_1 = group_1_2.query('exp_group == 1')\n",
    "b_group_2 = group_1_2.query('exp_group == 2')"
   ]
  },
  {
   "cell_type": "markdown",
   "id": "3478ecb2-472e-467f-8cfa-c2ac57a4a7b4",
   "metadata": {},
   "source": [
    "## Проведем сравнение с помощью критерия T-теста между группами 0 и 3"
   ]
  },
  {
   "cell_type": "markdown",
   "id": "0b5b9d02-cabd-4ed9-9f81-9dc185cf0aea",
   "metadata": {},
   "source": [
    "Проверим равенство средних t-тестом между всей группой 0 и группой 3\n",
    "1. H0 - средние между группами равны\n",
    "2. H1 - средние между группами не равны\n",
    "\n",
    "a=0.05"
   ]
  },
  {
   "cell_type": "code",
   "execution_count": 69,
   "id": "4131fc74-6045-4a17-a5e7-921359529710",
   "metadata": {},
   "outputs": [
    {
     "name": "stdout",
     "output_type": "stream",
     "text": [
      "p_value = 6.216047483057877e-44, как следствие мы отклоняем нулевую гипотезу в пользу альтернативной\n"
     ]
    }
   ],
   "source": [
    "ttest_start(a_group_0, b_group_3, 'ctr', a)"
   ]
  },
  {
   "cell_type": "code",
   "execution_count": 70,
   "id": "879e530f-4b05-49dd-b994-0c21ce255c88",
   "metadata": {},
   "outputs": [
    {
     "name": "stdout",
     "output_type": "stream",
     "text": [
      "p_value = 4.788878529845026e-57, как следствие мы отклоняем нулевую гипотезу в пользу альтернативной\n"
     ]
    }
   ],
   "source": [
    "ttest_start(a_group_0, b_group_3, 'lin_like', a)"
   ]
  },
  {
   "cell_type": "markdown",
   "id": "99e7ed61-c38a-46f6-a143-f512d0d76e14",
   "metadata": {},
   "source": [
    "## Проведем сравнение с помощью критерия T-теста между группами 1 и 2"
   ]
  },
  {
   "cell_type": "markdown",
   "id": "e56bc98d-11f1-4178-be04-be565e69d23f",
   "metadata": {},
   "source": [
    "Проверим равенство средних t-тестом между всей группой 1 и группой 2\n",
    "1. H0 - средние между группами равны\n",
    "2. H1 - средние между группами не равны\n",
    "\n",
    "a=0.05"
   ]
  },
  {
   "cell_type": "code",
   "execution_count": 75,
   "id": "2d29fc39-30d3-4d75-99ad-79c63e4d3a62",
   "metadata": {},
   "outputs": [
    {
     "name": "stdout",
     "output_type": "stream",
     "text": [
      "p_value = 0.685373331140751, как следствие мы не можем отклонить нулевую гипотезу в пользу альтернативной\n"
     ]
    }
   ],
   "source": [
    "ttest_start(a_group_1, b_group_2, 'ctr', a)"
   ]
  },
  {
   "cell_type": "code",
   "execution_count": 76,
   "id": "c2f07818-cccf-4b27-8b74-8f5c0f9aba60",
   "metadata": {},
   "outputs": [
    {
     "name": "stdout",
     "output_type": "stream",
     "text": [
      "p_value = 2.057830534124001e-09, как следствие мы отклоняем нулевую гипотезу в пользу альтернативной\n"
     ]
    }
   ],
   "source": [
    "ttest_start(a_group_1, b_group_2, 'lin_like', a)"
   ]
  },
  {
   "cell_type": "markdown",
   "id": "8ce39c67-0f8e-43ff-84a7-080425c21ca8",
   "metadata": {},
   "source": [
    "## ВЫВОД\n",
    "\n",
    "У группы 0 и 3 различия были зафиксированы и по метрики CTR и по метрики linearized_likes, при этом для второй метрики p-value получился меньше чем для CTR\n",
    "\n",
    "У группы 1 и 2 t-тест по метрики CTR различий не показал, а вот по метрики linearized_likes были зафиксированы статистически значимые различия.\n",
    "\n",
    "Так же стоит заметить, что форма распределения (особенно видно у пары групп 1 и 2) меняется у метрики linearized_likes относительно CTR, особенно у пользователей у которых много просмотров но мало лайков. Тем самым она подчеркивает различия сильнее чем CTR (другими словами является более чувствительной), что дает возможность t-тестам увидеть разницу. "
   ]
  }
 ],
 "metadata": {
  "kernelspec": {
   "display_name": "Python 3 (ipykernel)",
   "language": "python",
   "name": "python3"
  },
  "language_info": {
   "codemirror_mode": {
    "name": "ipython",
    "version": 3
   },
   "file_extension": ".py",
   "mimetype": "text/x-python",
   "name": "python",
   "nbconvert_exporter": "python",
   "pygments_lexer": "ipython3",
   "version": "3.11.5"
  }
 },
 "nbformat": 4,
 "nbformat_minor": 5
}
