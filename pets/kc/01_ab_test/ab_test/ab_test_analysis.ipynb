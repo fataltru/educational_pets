{
 "cells": [
  {
   "cell_type": "markdown",
   "id": "c89d7197-bd03-4819-984f-6a685403267f",
   "metadata": {},
   "source": [
    "# Анализ А/B-теста (CTR)"
   ]
  },
  {
   "cell_type": "markdown",
   "id": "eecb9559-f5d7-46af-aa13-dc1c73002884",
   "metadata": {},
   "source": [
    "## Общие данные и цели исследования\n",
    "\n",
    "Имеются данные А/B-теста (группы 1 и 2) с '2023-08-29' по '2023-09-04'. В группе 2 (тестовой) был использован новый алгоритм рекомендации постов. Группа 1 контрольная.\n",
    "\n",
    "A/B тест проводит с целью определить изменения показателя CTR (увеличения CTR у тестовой группы по сравнению с контрольной)\n",
    "\n",
    "Результаты A/B теста будем проверять через следующие стат.тесты:\n",
    "1. t-тест на обычном CTR\n",
    "2. t-тест на сглаженном CTR\n",
    "3. Тест Манна-Уитни на обычном CTR\n",
    "4. Пуассоновский бутстреп\n",
    "5. t-тест и тест Манна-Уитни поверх бакетного преобразования\n",
    "\n",
    "Стуктура данных\n",
    "- user_id - уникальный идентификатор пользователя\n",
    "- post_id - уникальный идентификатор поста\n",
    "- action - действие (просмотр/лайк)\n",
    "- time - дата и время действия\n",
    "- gender - гендер\n",
    "- age - возраст\n",
    "- country - страна\n",
    "- city - город\n",
    "- os - операционная система\n",
    "- source - источник откуда пришел пользователь\n",
    "- exp_group - номер группы тестирования"
   ]
  },
  {
   "cell_type": "markdown",
   "id": "8903b298-a682-4f24-b879-8c1fcbae877e",
   "metadata": {
    "tags": []
   },
   "source": [
    "## Блок общих функций и импорта библиотек"
   ]
  },
  {
   "cell_type": "code",
   "execution_count": 1,
   "id": "5fd9e5de-057c-42c9-ade3-2ba50deaec22",
   "metadata": {},
   "outputs": [],
   "source": [
    "#импорт из стандартной библиотеки\n",
    "import hashlib as hl\n",
    "\n",
    "#импорт сторонних библиотек\n",
    "import pandas as pd\n",
    "import numpy as np\n",
    "from matplotlib import pyplot as plt\n",
    "import seaborn as sns\n",
    "from scipy import stats as st\n",
    "import pandahouse as ph\n",
    "import swifter"
   ]
  },
  {
   "cell_type": "markdown",
   "id": "d1d5b8d9-7227-4861-8f2b-b4bff3b5e105",
   "metadata": {},
   "source": [
    "Создадим класс для подключения к БД и получения результатов запроса"
   ]
  },
  {
   "cell_type": "code",
   "execution_count": 2,
   "id": "7ab737f6-3dd1-4782-81b8-a2794ec6e252",
   "metadata": {},
   "outputs": [],
   "source": [
    "class getch:\n",
    "    def __init__(self, query, db=''):\n",
    "        self.connection = {\n",
    "            'host': '',\n",
    "            'password': '',\n",
    "            'user': '',\n",
    "            'database': db,\n",
    "        }\n",
    "        self.query = query\n",
    "        self.getchdf\n",
    "\n",
    "    @property\n",
    "    def getchdf(self):\n",
    "        try:\n",
    "            self.df = ph.read_clickhouse(self.query, connection=self.connection)\n",
    "\n",
    "        except Exception as err:\n",
    "            print(\"\\033[31m {}\".format(err))\n",
    "            exit(0)"
   ]
  },
  {
   "cell_type": "markdown",
   "id": "7bfdae7e-3a4f-4e58-8f03-ad48da998573",
   "metadata": {},
   "source": [
    "Создадим функцию для расчета и вывода результатов t-теста"
   ]
  },
  {
   "cell_type": "code",
   "execution_count": 3,
   "id": "560de3d3-1979-4398-adf4-3f9b41d77524",
   "metadata": {},
   "outputs": [],
   "source": [
    "def ttest_start(a_group, b_group, column='ctr', a=0.05, hypotesis='two-sided') -> float:\n",
    "    p_value = st.ttest_ind(a_group[column], b_group[column], equal_var=False, alternative = hypotesis)[1]\n",
    "    if p_value <= a:\n",
    "        print(f'p_value = {p_value}, как следствие мы отклоняем нулевую гипотезу в пользу альтернативной')\n",
    "    else:\n",
    "        print(f'p_value = {p_value}, как следствие мы не можем отклонить нулевую гипотезу в пользу альтернативной')\n",
    "    return None"
   ]
  },
  {
   "cell_type": "markdown",
   "id": "f1566b06-4365-470f-aae0-8e8355df301d",
   "metadata": {},
   "source": [
    "Создадим функцию для расчета и вывода результатов теста Манна-Уитни"
   ]
  },
  {
   "cell_type": "code",
   "execution_count": 4,
   "id": "26def13b-982c-4da1-b1cd-ee4df6e2bf45",
   "metadata": {},
   "outputs": [],
   "source": [
    "def mwh_start(a_group, b_group, column='ctr', a=0.05, hypotesis='two-sided') -> float:\n",
    "    p_value = st.mannwhitneyu(a_group[column], b_group[column], alternative = hypotesis)[1]\n",
    "\n",
    "    if p_value <= a:\n",
    "        print(f'p_value = {p_value}, как следствие мы отклоняем нулевую гипотезу в пользу альтернативной')\n",
    "    else:\n",
    "        print(f'p_value = {p_value}, как следствие мы не можем отклонить нулевую гипотезу в пользу альтернативной')\n",
    "    return None"
   ]
  },
  {
   "cell_type": "markdown",
   "id": "f693f1d5-e55d-469e-99b8-2d0a4ce94ccf",
   "metadata": {},
   "source": [
    "Создадим функцию для расчета Пуассоновского бутстрепа"
   ]
  },
  {
   "cell_type": "code",
   "execution_count": 5,
   "id": "664aa0bc-b0cd-4abb-a282-d06349ef03ae",
   "metadata": {},
   "outputs": [],
   "source": [
    "def poisson_bootstrap(a_group, b_group, n_bootstrap=2000):\n",
    "    # mu = 1\n",
    "    # loc = 0\n",
    "    poisson_bootstraps1 = st.poisson.rvs(1, 0, (n_bootstrap, len(a_group))).astype('int')\n",
    "    poisson_bootstraps2 = st.poisson.rvs(1, 0, (n_bootstrap, len(b_group))).astype('int')\n",
    "    globalCTR1 = (poisson_bootstraps1*a_group['like'].to_numpy()).sum(axis=1) \\\n",
    "                /(poisson_bootstraps1*a_group['view'].to_numpy()).sum(axis=1)\n",
    "    globalCTR2 = (poisson_bootstraps2*b_group['like'].to_numpy()).sum(axis=1) \\\n",
    "                /(poisson_bootstraps2*b_group['view'].to_numpy()).sum(axis=1)\n",
    "    return globalCTR1, globalCTR2\n"
   ]
  },
  {
   "cell_type": "markdown",
   "id": "71865576-f182-425d-a987-e4adbf35e6b9",
   "metadata": {},
   "source": [
    "## Загрузка данных и подготовка их к исследованию"
   ]
  },
  {
   "cell_type": "markdown",
   "id": "0b2da3f8-7e21-46d8-83dc-05cab9871b69",
   "metadata": {},
   "source": [
    "Загрузим первую строку, и посмотрим на структуру БД"
   ]
  },
  {
   "cell_type": "code",
   "execution_count": 6,
   "id": "b87ffd74-c339-4845-a527-162a4bf5b7f8",
   "metadata": {},
   "outputs": [],
   "source": [
    "head_of_db = getch('SELECT * FROM {db}.feed_actions limit 1')"
   ]
  },
  {
   "cell_type": "code",
   "execution_count": 7,
   "id": "abab41da-76b2-4d4d-88a2-00345a4edae4",
   "metadata": {},
   "outputs": [
    {
     "data": {
      "text/html": [
       "<div>\n",
       "<style scoped>\n",
       "    .dataframe tbody tr th:only-of-type {\n",
       "        vertical-align: middle;\n",
       "    }\n",
       "\n",
       "    .dataframe tbody tr th {\n",
       "        vertical-align: top;\n",
       "    }\n",
       "\n",
       "    .dataframe thead th {\n",
       "        text-align: right;\n",
       "    }\n",
       "</style>\n",
       "<table border=\"1\" class=\"dataframe\">\n",
       "  <thead>\n",
       "    <tr style=\"text-align: right;\">\n",
       "      <th></th>\n",
       "      <th>user_id</th>\n",
       "      <th>post_id</th>\n",
       "      <th>action</th>\n",
       "      <th>time</th>\n",
       "      <th>gender</th>\n",
       "      <th>age</th>\n",
       "      <th>country</th>\n",
       "      <th>city</th>\n",
       "      <th>os</th>\n",
       "      <th>source</th>\n",
       "      <th>exp_group</th>\n",
       "    </tr>\n",
       "  </thead>\n",
       "  <tbody>\n",
       "    <tr>\n",
       "      <th>0</th>\n",
       "      <td>115359</td>\n",
       "      <td>956</td>\n",
       "      <td>view</td>\n",
       "      <td>2023-08-14 05:07:53</td>\n",
       "      <td>0</td>\n",
       "      <td>19</td>\n",
       "      <td>Russia</td>\n",
       "      <td>Moscow</td>\n",
       "      <td>Android</td>\n",
       "      <td>organic</td>\n",
       "      <td>3</td>\n",
       "    </tr>\n",
       "  </tbody>\n",
       "</table>\n",
       "</div>"
      ],
      "text/plain": [
       "   user_id  post_id action                time  gender  age country    city  \\\n",
       "0   115359      956   view 2023-08-14 05:07:53       0   19  Russia  Moscow   \n",
       "\n",
       "        os   source  exp_group  \n",
       "0  Android  organic          3  "
      ]
     },
     "execution_count": 7,
     "metadata": {},
     "output_type": "execute_result"
    }
   ],
   "source": [
    "head_of_db.df"
   ]
  },
  {
   "cell_type": "markdown",
   "id": "096bb944-5286-4e2a-9f06-d5ac5073533b",
   "metadata": {},
   "source": [
    "Напишем запрос с целью получить агрегированные данные по просмотрам, лайкам, ctr, для каждого пользователя. Рассматриваемый промежуток времени 2023.08.29 - 2023.09.04"
   ]
  },
  {
   "cell_type": "code",
   "execution_count": 8,
   "id": "6c37a767-27d7-4202-a1ac-e2031569df64",
   "metadata": {},
   "outputs": [],
   "source": [
    "abgroup = getch('''\n",
    "    SELECT user_id,\n",
    "    countIf(action='like') as like,\n",
    "    countIf(action='view') as view,\n",
    "    exp_group,\n",
    "    like / view as ctr\n",
    "    FROM {db}.feed_actions \n",
    "    where exp_group between 1 and 2\n",
    "        and toDate(time) between '2023-08-29' and '2023-09-04'\n",
    "    group by user_id, exp_group\n",
    "    ''') "
   ]
  },
  {
   "cell_type": "markdown",
   "id": "aa16b3de-8c8a-44a6-ad1e-4eaee816610b",
   "metadata": {},
   "source": [
    "Посмотрим на общие данные в полученном датафрейме, а так же проверим на полные дубликаты все строчки."
   ]
  },
  {
   "cell_type": "code",
   "execution_count": 9,
   "id": "6e7dbb91-efd4-4c59-b909-aaa4c0f30049",
   "metadata": {},
   "outputs": [
    {
     "name": "stdout",
     "output_type": "stream",
     "text": [
      "<class 'pandas.core.frame.DataFrame'>\n",
      "RangeIndex: 19897 entries, 0 to 19896\n",
      "Data columns (total 5 columns):\n",
      " #   Column     Non-Null Count  Dtype  \n",
      "---  ------     --------------  -----  \n",
      " 0   user_id    19897 non-null  uint32 \n",
      " 1   like       19897 non-null  uint64 \n",
      " 2   view       19897 non-null  uint64 \n",
      " 3   exp_group  19897 non-null  int8   \n",
      " 4   ctr        19897 non-null  float64\n",
      "dtypes: float64(1), int8(1), uint32(1), uint64(2)\n",
      "memory usage: 563.6 KB\n"
     ]
    }
   ],
   "source": [
    "abgroup.df.info()"
   ]
  },
  {
   "cell_type": "code",
   "execution_count": 10,
   "id": "0a8c9cf5-43c4-458b-93f4-90c68f093d35",
   "metadata": {},
   "outputs": [
    {
     "data": {
      "text/plain": [
       "0"
      ]
     },
     "execution_count": 10,
     "metadata": {},
     "output_type": "execute_result"
    }
   ],
   "source": [
    "abgroup.df.duplicated().sum()"
   ]
  },
  {
   "cell_type": "markdown",
   "id": "2e112d3b-bcb3-4d9d-a88c-978e151cb4f3",
   "metadata": {},
   "source": [
    "Посчитаем количество пользователей в каждой группе"
   ]
  },
  {
   "cell_type": "code",
   "execution_count": 11,
   "id": "d714f989-28b4-42f4-b724-4b95c512421c",
   "metadata": {},
   "outputs": [
    {
     "data": {
      "text/plain": [
       "exp_group\n",
       "1    10020\n",
       "2     9877\n",
       "Name: count, dtype: int64"
      ]
     },
     "execution_count": 11,
     "metadata": {},
     "output_type": "execute_result"
    }
   ],
   "source": [
    "abgroup.df['exp_group'].value_counts()"
   ]
  },
  {
   "cell_type": "markdown",
   "id": "a1246fc8-aadd-4d7a-a4cb-1436a3b9a207",
   "metadata": {},
   "source": [
    "Итого: у нас имеется 19 897 записей, которые делятся на две группы.\n",
    "1. Группа 1 - включает в себя 10020 записей\n",
    "2. Группа 2 - включает в себя 9877 записи"
   ]
  },
  {
   "cell_type": "markdown",
   "id": "fb1a87c1-dec9-4766-86f5-1cf9383bf257",
   "metadata": {},
   "source": [
    "Проверим количество пользователей попавших в две группы"
   ]
  },
  {
   "cell_type": "code",
   "execution_count": 12,
   "id": "8aa08ffe-7f0a-4a17-b846-1d6947b4760b",
   "metadata": {},
   "outputs": [
    {
     "data": {
      "text/plain": [
       "Series([], Name: count, dtype: float64)"
      ]
     },
     "execution_count": 12,
     "metadata": {},
     "output_type": "execute_result"
    }
   ],
   "source": [
    "abgroup.df['user_id'].value_counts().where(lambda x: x > 1).dropna().sort_values(ascending=False)"
   ]
  },
  {
   "cell_type": "markdown",
   "id": "3666cb94-0cd2-49b9-a3f7-9f6555271da0",
   "metadata": {},
   "source": [
    "Количество пользователей оказавшихся в двух группах равно 0"
   ]
  },
  {
   "cell_type": "markdown",
   "id": "c46975a9-eaa8-42ed-ad26-627440f0bf8f",
   "metadata": {},
   "source": [
    "Добавим в наш датафрейм сглаженный CTR"
   ]
  },
  {
   "cell_type": "code",
   "execution_count": 13,
   "id": "008ccec1-8b15-4892-8926-53656bd94f91",
   "metadata": {},
   "outputs": [],
   "source": [
    "alpha = 5"
   ]
  },
  {
   "cell_type": "code",
   "execution_count": 14,
   "id": "4eae88d3-a0df-4723-89cd-e2959d673ca1",
   "metadata": {},
   "outputs": [],
   "source": [
    "global_ctr_a = abgroup.df.query('exp_group == 1')['like'].sum() / abgroup.df.query('exp_group == 1')['view'].sum()\n",
    "global_ctr_b = abgroup.df.query('exp_group == 2')['like'].sum() / abgroup.df.query('exp_group == 2')['view'].sum()"
   ]
  },
  {
   "cell_type": "code",
   "execution_count": 15,
   "id": "342b30fc-f918-41a1-8052-b61a4f8a530b",
   "metadata": {},
   "outputs": [],
   "source": [
    "abgroup.df['smothed_ctr'] = (\n",
    "    abgroup.df['like'] + alpha *\n",
    "    abgroup.df['exp_group'].map({1: global_ctr_a, 2: global_ctr_b})\n",
    ") / (abgroup.df['view'] + alpha)"
   ]
  },
  {
   "cell_type": "code",
   "execution_count": 16,
   "id": "d92ba547-7405-4ffa-ae81-12714942b2b9",
   "metadata": {},
   "outputs": [
    {
     "data": {
      "text/html": [
       "<div>\n",
       "<style scoped>\n",
       "    .dataframe tbody tr th:only-of-type {\n",
       "        vertical-align: middle;\n",
       "    }\n",
       "\n",
       "    .dataframe tbody tr th {\n",
       "        vertical-align: top;\n",
       "    }\n",
       "\n",
       "    .dataframe thead th {\n",
       "        text-align: right;\n",
       "    }\n",
       "</style>\n",
       "<table border=\"1\" class=\"dataframe\">\n",
       "  <thead>\n",
       "    <tr style=\"text-align: right;\">\n",
       "      <th></th>\n",
       "      <th>user_id</th>\n",
       "      <th>like</th>\n",
       "      <th>view</th>\n",
       "      <th>exp_group</th>\n",
       "      <th>ctr</th>\n",
       "      <th>smothed_ctr</th>\n",
       "    </tr>\n",
       "  </thead>\n",
       "  <tbody>\n",
       "    <tr>\n",
       "      <th>13798</th>\n",
       "      <td>108611</td>\n",
       "      <td>10</td>\n",
       "      <td>41</td>\n",
       "      <td>1</td>\n",
       "      <td>0.243902</td>\n",
       "      <td>0.240174</td>\n",
       "    </tr>\n",
       "    <tr>\n",
       "      <th>11403</th>\n",
       "      <td>127012</td>\n",
       "      <td>1</td>\n",
       "      <td>15</td>\n",
       "      <td>2</td>\n",
       "      <td>0.066667</td>\n",
       "      <td>0.100063</td>\n",
       "    </tr>\n",
       "    <tr>\n",
       "      <th>18782</th>\n",
       "      <td>3494</td>\n",
       "      <td>1</td>\n",
       "      <td>9</td>\n",
       "      <td>2</td>\n",
       "      <td>0.111111</td>\n",
       "      <td>0.142947</td>\n",
       "    </tr>\n",
       "    <tr>\n",
       "      <th>12860</th>\n",
       "      <td>16778</td>\n",
       "      <td>24</td>\n",
       "      <td>111</td>\n",
       "      <td>1</td>\n",
       "      <td>0.216216</td>\n",
       "      <td>0.215931</td>\n",
       "    </tr>\n",
       "    <tr>\n",
       "      <th>892</th>\n",
       "      <td>116558</td>\n",
       "      <td>5</td>\n",
       "      <td>50</td>\n",
       "      <td>2</td>\n",
       "      <td>0.100000</td>\n",
       "      <td>0.109114</td>\n",
       "    </tr>\n",
       "    <tr>\n",
       "      <th>15250</th>\n",
       "      <td>128942</td>\n",
       "      <td>9</td>\n",
       "      <td>56</td>\n",
       "      <td>1</td>\n",
       "      <td>0.160714</td>\n",
       "      <td>0.164722</td>\n",
       "    </tr>\n",
       "    <tr>\n",
       "      <th>6380</th>\n",
       "      <td>7644</td>\n",
       "      <td>2</td>\n",
       "      <td>24</td>\n",
       "      <td>2</td>\n",
       "      <td>0.083333</td>\n",
       "      <td>0.103491</td>\n",
       "    </tr>\n",
       "    <tr>\n",
       "      <th>4346</th>\n",
       "      <td>10462</td>\n",
       "      <td>4</td>\n",
       "      <td>11</td>\n",
       "      <td>2</td>\n",
       "      <td>0.363636</td>\n",
       "      <td>0.312578</td>\n",
       "    </tr>\n",
       "    <tr>\n",
       "      <th>5543</th>\n",
       "      <td>14849</td>\n",
       "      <td>6</td>\n",
       "      <td>39</td>\n",
       "      <td>1</td>\n",
       "      <td>0.153846</td>\n",
       "      <td>0.160182</td>\n",
       "    </tr>\n",
       "    <tr>\n",
       "      <th>16131</th>\n",
       "      <td>138555</td>\n",
       "      <td>3</td>\n",
       "      <td>29</td>\n",
       "      <td>2</td>\n",
       "      <td>0.103448</td>\n",
       "      <td>0.117684</td>\n",
       "    </tr>\n",
       "  </tbody>\n",
       "</table>\n",
       "</div>"
      ],
      "text/plain": [
       "       user_id  like  view  exp_group       ctr  smothed_ctr\n",
       "13798   108611    10    41          1  0.243902     0.240174\n",
       "11403   127012     1    15          2  0.066667     0.100063\n",
       "18782     3494     1     9          2  0.111111     0.142947\n",
       "12860    16778    24   111          1  0.216216     0.215931\n",
       "892     116558     5    50          2  0.100000     0.109114\n",
       "15250   128942     9    56          1  0.160714     0.164722\n",
       "6380      7644     2    24          2  0.083333     0.103491\n",
       "4346     10462     4    11          2  0.363636     0.312578\n",
       "5543     14849     6    39          1  0.153846     0.160182\n",
       "16131   138555     3    29          2  0.103448     0.117684"
      ]
     },
     "execution_count": 16,
     "metadata": {},
     "output_type": "execute_result"
    }
   ],
   "source": [
    "abgroup.df.sample(10, random_state=100)"
   ]
  },
  {
   "cell_type": "markdown",
   "id": "c5c22819-9478-433a-a322-e26b06617902",
   "metadata": {},
   "source": [
    "Построим распределение по обычному CTR"
   ]
  },
  {
   "cell_type": "code",
   "execution_count": 17,
   "id": "5f880ca4-62a0-4392-9610-5e0ed47fb8db",
   "metadata": {},
   "outputs": [
    {
     "data": {
      "image/png": "[encoded data removed]",
      "text/plain": [
       "<Figure size 1440x576 with 1 Axes>"
      ]
     },
     "metadata": {
      "needs_background": "light"
     },
     "output_type": "display_data"
    }
   ],
   "source": [
    "plt.figure(figsize=(20,8))\n",
    "plt.title('Гистограмма CTR')\n",
    "sns.histplot(data=abgroup.df[['ctr', 'exp_group']],x='ctr', hue='exp_group', palette = ['y', 'b'], alpha = 0.4);"
   ]
  },
  {
   "cell_type": "markdown",
   "id": "83ab9952-3fb1-4bdf-a7ba-cd01126fa5ca",
   "metadata": {},
   "source": [
    "Посчитатем средние значения CTR по группам"
   ]
  },
  {
   "cell_type": "code",
   "execution_count": 18,
   "id": "0854a2d6-3dbd-4feb-a71f-07cd6b9b67ab",
   "metadata": {},
   "outputs": [
    {
     "data": {
      "text/plain": [
       "exp_group\n",
       "1    0.216774\n",
       "2    0.216102\n",
       "Name: ctr, dtype: float64"
      ]
     },
     "execution_count": 18,
     "metadata": {},
     "output_type": "execute_result"
    }
   ],
   "source": [
    "abgroup.df.groupby('exp_group')['ctr'].mean()"
   ]
  },
  {
   "cell_type": "code",
   "execution_count": 19,
   "id": "9625f9f1-1469-4d46-ad41-3052c69fc807",
   "metadata": {},
   "outputs": [
    {
     "name": "stdout",
     "output_type": "stream",
     "text": [
      "Размер группы B до CTR <= 0.2 = 5418\n",
      "Размер группы B с CTR > 0.2 = 4459\n"
     ]
    }
   ],
   "source": [
    "print('Размер группы B до CTR <= 0.2 =', abgroup.df.query('exp_group == 2 and ctr <=0.2')['ctr'].count())\n",
    "print('Размер группы B с CTR > 0.2 =', abgroup.df.query('exp_group == 2 and ctr > 0.2')['ctr'].count())"
   ]
  },
  {
   "cell_type": "markdown",
   "id": "8ec4fbd3-5bfb-413d-80ea-a467620f7e61",
   "metadata": {},
   "source": [
    "Посмотрим на количество просмотров у тех пользователей у кого CTR < 0.2 и посчитаем среднее количество просмотров у тех у кого CTR менее 0.2 и выше 0.2"
   ]
  },
  {
   "cell_type": "code",
   "execution_count": 20,
   "id": "00312943-026c-42b1-8816-a7c0bb8d3391",
   "metadata": {},
   "outputs": [
    {
     "data": {
      "image/png": "[encoded data removed]",
      "text/plain": [
       "<Figure size 1440x576 with 1 Axes>"
      ]
     },
     "metadata": {
      "needs_background": "light"
     },
     "output_type": "display_data"
    }
   ],
   "source": [
    "plt.figure(figsize=(20,8))\n",
    "plt.title('Гистограмма кол-ва просмотров на 1 пользователя с CTR <= 0.2')\n",
    "sns.histplot(data=abgroup.df.query('ctr <=0.2')[['view', 'exp_group']],x='view', hue='exp_group', palette = ['y', 'b'], alpha = 0.4);"
   ]
  },
  {
   "cell_type": "code",
   "execution_count": 21,
   "id": "f4c87c18-6b72-4c8d-9392-6392eda7920d",
   "metadata": {},
   "outputs": [
    {
     "name": "stdout",
     "output_type": "stream",
     "text": [
      "Среднее количество просмотров группы B, где CTR <= 0.2 = 72.0\n",
      "Среднее количество просмотров группы B, где CTR > 0.2 = 60.0\n",
      "Среднее количество просмотров группы B = 67.0\n",
      "Среднее количество просмотров группы A = 67.0\n"
     ]
    }
   ],
   "source": [
    "print('Среднее количество просмотров группы B, где CTR <= 0.2 =', abgroup.df.query('exp_group == 2 and ctr <=0.2')['view'].mean().round())\n",
    "print('Среднее количество просмотров группы B, где CTR > 0.2 =', abgroup.df.query('exp_group == 2 and ctr > 0.2')['view'].mean().round())\n",
    "print('Среднее количество просмотров группы B =', abgroup.df.query('exp_group == 2')['view'].mean().round())\n",
    "print('Среднее количество просмотров группы A =', abgroup.df.query('exp_group == 1')['view'].mean().round())"
   ]
  },
  {
   "cell_type": "markdown",
   "id": "b6dc0888-fc06-49ef-b3fb-96e33e3f261a",
   "metadata": {},
   "source": [
    "Посмотрим как выглядит сглаженный CTR относительно обычного по группам "
   ]
  },
  {
   "cell_type": "code",
   "execution_count": 22,
   "id": "327d37c1-c04f-46c1-9ca2-fe1251a037c4",
   "metadata": {},
   "outputs": [
    {
     "data": {
      "image/png": "[encoded data removed]",
      "text/plain": [
       "<Figure size 1440x576 with 1 Axes>"
      ]
     },
     "metadata": {
      "needs_background": "light"
     },
     "output_type": "display_data"
    }
   ],
   "source": [
    "plt.figure(figsize=(20,8))\n",
    "plt.title('Гистограмма сглаженного CTR и обычного CTR, группа A')\n",
    "sns.histplot(data=abgroup.df[['ctr', 'exp_group']].query('exp_group == 1'), x='ctr', alpha = 0.4, element=\"step\")\n",
    "sns.histplot(data=abgroup.df[['smothed_ctr', 'exp_group']].query('exp_group == 1'), x='smothed_ctr', alpha = 0.4, element=\"step\")\n",
    "plt.legend([\"a_group_ctr\", \"a_group_smothed_ctr\"]);\n",
    "plt.show()"
   ]
  },
  {
   "cell_type": "code",
   "execution_count": 23,
   "id": "2c9e489d-25ef-4c8c-8f8b-4273559d1cd3",
   "metadata": {},
   "outputs": [
    {
     "data": {
      "image/png": "[encoded data removed]",
      "text/plain": [
       "<Figure size 1440x576 with 1 Axes>"
      ]
     },
     "metadata": {
      "needs_background": "light"
     },
     "output_type": "display_data"
    }
   ],
   "source": [
    "plt.figure(figsize=(20,8))\n",
    "plt.title('Гистограмма сглаженного CTR и обычного CTR, группа B')\n",
    "sns.histplot(data=abgroup.df[['ctr', 'exp_group']].query('exp_group == 2'), x='ctr', alpha = 0.4, element=\"step\")\n",
    "sns.histplot(data=abgroup.df[['smothed_ctr', 'exp_group']].query('exp_group == 2'), x='smothed_ctr', alpha = 0.4, element=\"step\")\n",
    "plt.legend([\"b_group_ctr\", \"b_group_smothed_ctr\"]);\n",
    "plt.show()"
   ]
  },
  {
   "cell_type": "markdown",
   "id": "285d9a60-3e5c-4ef3-b9e9-a5c6736213c2",
   "metadata": {},
   "source": [
    "Посчитатем средние значения по сглаженному CTR"
   ]
  },
  {
   "cell_type": "code",
   "execution_count": 24,
   "id": "059d124f-e15d-41dd-b388-32861e522123",
   "metadata": {},
   "outputs": [
    {
     "data": {
      "text/plain": [
       "exp_group\n",
       "1    0.215280\n",
       "2    0.212508\n",
       "Name: smothed_ctr, dtype: float64"
      ]
     },
     "execution_count": 24,
     "metadata": {},
     "output_type": "execute_result"
    }
   ],
   "source": [
    "abgroup.df.groupby('exp_group')['smothed_ctr'].mean()"
   ]
  },
  {
   "cell_type": "markdown",
   "id": "20eda269-ddb8-4878-ab48-7c18b7164bff",
   "metadata": {},
   "source": [
    "Установим уровень значимости и сформируем переменные с группами A и B"
   ]
  },
  {
   "cell_type": "code",
   "execution_count": 25,
   "id": "bdeb4a91-c58e-4c5a-b8d5-8f95bcee2f63",
   "metadata": {},
   "outputs": [],
   "source": [
    "a=0.05\n",
    "a_group = abgroup.df.query('exp_group == 1')\n",
    "b_group = abgroup.df.query('exp_group == 2')"
   ]
  },
  {
   "cell_type": "markdown",
   "id": "3478ecb2-472e-467f-8cfa-c2ac57a4a7b4",
   "metadata": {},
   "source": [
    "## Проведем сравнение с помощью критерия T-теста"
   ]
  },
  {
   "cell_type": "markdown",
   "id": "0b5b9d02-cabd-4ed9-9f81-9dc185cf0aea",
   "metadata": {},
   "source": [
    "Проверим равенство средних t-тестом между всей группой 1 и группой 2\n",
    "1. H0 - средние между группами равны\n",
    "2. H1 - средние между группами не равны\n",
    "\n",
    "a=0.05"
   ]
  },
  {
   "cell_type": "code",
   "execution_count": 26,
   "id": "4131fc74-6045-4a17-a5e7-921359529710",
   "metadata": {},
   "outputs": [
    {
     "name": "stdout",
     "output_type": "stream",
     "text": [
      "p_value = 0.685373331140751, как следствие мы не можем отклонить нулевую гипотезу в пользу альтернативной\n"
     ]
    }
   ],
   "source": [
    "ttest_start(a_group, b_group, 'ctr', a)"
   ]
  },
  {
   "cell_type": "markdown",
   "id": "d0b7ba87-2472-4682-8aae-455188d28317",
   "metadata": {},
   "source": [
    "Из за специфичного распределения группы B (имеет второй горб в диапазоне 0.2-0.4 и так сказать скошенность вправо) средняя уравнивается со средним контрольной группы, что в свою очередь дает эффект, когда тест показывает большое значение p_value, которое указывает на равенство средних между группами. \n",
    "\n",
    "Хотя по факту, в контексте нашей задачи будем делать поправку на формы распределений, а именно, что пользователи разделились как бы на две подгруппы внутри группы B, первая у кого CTR упал, и на тех у кого CTR вырос относительно контрольной группы."
   ]
  },
  {
   "cell_type": "markdown",
   "id": "0be6c18e-8f60-48f8-84c8-d9e5186482e9",
   "metadata": {},
   "source": [
    "Проведем тест на сглаженном CTR"
   ]
  },
  {
   "cell_type": "code",
   "execution_count": 27,
   "id": "879e530f-4b05-49dd-b994-0c21ce255c88",
   "metadata": {},
   "outputs": [
    {
     "name": "stdout",
     "output_type": "stream",
     "text": [
      "p_value = 0.05166679015318526, как следствие мы не можем отклонить нулевую гипотезу в пользу альтернативной\n"
     ]
    }
   ],
   "source": [
    "ttest_start(a_group, b_group, 'smothed_ctr', a)"
   ]
  },
  {
   "cell_type": "markdown",
   "id": "7ca4d733-67ef-424a-b2d5-7cd880bdee1a",
   "metadata": {},
   "source": [
    "При проведение теста над сглаженным CTR значение p_value хоть и было значительно ниже чем у теста с обычым CTR (0.051 против 0.685), но все равно было больше установленного уровня стат. значимости, в связи с чем мы не можем отвергнуть нулевую гипотезу"
   ]
  },
  {
   "cell_type": "markdown",
   "id": "4695ca83-1f93-48ae-a7ee-e1790af3fb75",
   "metadata": {},
   "source": [
    "## Проведем сравнение с помощью критерия Манна-Уитни"
   ]
  },
  {
   "cell_type": "markdown",
   "id": "4cda3bb1-678a-40d8-b566-a86272e8f2dc",
   "metadata": {},
   "source": [
    "Проведем сравнение с помощью критерия Манна-Уитни\n",
    "1. H0 - P(Ai>Bi) = P(Bi>Ai)\n",
    "2. H1 - P(Ai>Bi) <> P(Bi>Ai)\n",
    "\n",
    "a=0.05"
   ]
  },
  {
   "cell_type": "code",
   "execution_count": 28,
   "id": "3cd9bc04-74f3-40cf-9854-8432efc75bd2",
   "metadata": {},
   "outputs": [
    {
     "name": "stdout",
     "output_type": "stream",
     "text": [
      "p_value = 4.632205841806026e-45, как следствие мы отклоняем нулевую гипотезу в пользу альтернативной\n"
     ]
    }
   ],
   "source": [
    "mwh_start(a_group, b_group, 'ctr', a)"
   ]
  },
  {
   "cell_type": "markdown",
   "id": "e633e636-3292-40a1-a9a8-169f966fd101",
   "metadata": {},
   "source": [
    "У данного типа тестов есть требования к схожести распределения выборок, в нашем случае распределения у выборок значительно отличаются друг от друга, что может давать некорректные результаты теста."
   ]
  },
  {
   "cell_type": "markdown",
   "id": "afb2430c-61f7-4c2c-957c-2efc2152b881",
   "metadata": {},
   "source": [
    "## Пуассоновский бутстреп"
   ]
  },
  {
   "cell_type": "markdown",
   "id": "68fbc643-ae59-4904-b038-ba68dfb30b70",
   "metadata": {},
   "source": [
    "Для проведения данного бутсрепа выполним несколько действий:\n",
    "1. Каждой записи назначаем вес (по большому счету ключевой вес это 0, который зануляет использование данной записи в текущей симуляции, остальные веса, какой-бы величины они не были значат лишь, что число берется для расчета (на итоговый результат размер веса не влияет))\n",
    "2. С учетом веса посчитаем значения CTR для получающейся группы А и группы B\n",
    "3. Так повторим 2000 раз, тем самым получим 2000 CTR с группы А и 2000 CTR с группы B\n",
    "4. Проанализируем получившиеся результаты"
   ]
  },
  {
   "cell_type": "code",
   "execution_count": 29,
   "id": "33399e21-31b3-4358-a52b-e2d40b373573",
   "metadata": {},
   "outputs": [],
   "source": [
    "bs_a_ctr, bs_b_ctr = poisson_bootstrap(a_group, b_group)"
   ]
  },
  {
   "cell_type": "code",
   "execution_count": 30,
   "id": "c6c3c4e9-e008-4af4-93f5-23091a4c0602",
   "metadata": {},
   "outputs": [
    {
     "data": {
      "image/png": "[encoded data removed]",
      "text/plain": [
       "<Figure size 1440x576 with 1 Axes>"
      ]
     },
     "metadata": {
      "needs_background": "light"
     },
     "output_type": "display_data"
    }
   ],
   "source": [
    "plt.figure(figsize=(20,8))\n",
    "plt.title('Гистограмма плотности метрики CTR полученной методом бутсреп')\n",
    "plt.hist(bs_a_ctr, density=True, alpha=0.8)\n",
    "plt.hist(bs_b_ctr, density=True, alpha=0.8)\n",
    "plt.legend([\"a_group\", \"b_group\"]);"
   ]
  },
  {
   "cell_type": "code",
   "execution_count": 31,
   "id": "fe56dd5f-127b-4567-abbe-8483cb412641",
   "metadata": {},
   "outputs": [
    {
     "data": {
      "image/png": "[encoded data removed]",
      "text/plain": [
       "<Figure size 432x288 with 1 Axes>"
      ]
     },
     "metadata": {
      "needs_background": "light"
     },
     "output_type": "display_data"
    }
   ],
   "source": [
    "plt.hist(bs_b_ctr - bs_a_ctr);"
   ]
  },
  {
   "cell_type": "markdown",
   "id": "44bba7c6-3edc-4b5b-be14-53ed2402ab1d",
   "metadata": {},
   "source": [
    "Ввиду того, что распределения не пересекаются (распределение разницы нам это показывает наглядно), мы можем утрвеждать что ctr прошедший через бутстреп показывает, что контрольная группа А показывает лучшие результаты метрики CTR, чем тестовая"
   ]
  },
  {
   "cell_type": "markdown",
   "id": "6043d5cf-054b-43d8-a0e3-00550d80ad88",
   "metadata": {},
   "source": [
    "## Бакетное преобразование"
   ]
  },
  {
   "cell_type": "markdown",
   "id": "fde03c95-122a-4e3b-8ed0-e14e48f64bf0",
   "metadata": {},
   "source": [
    "Для проведения тестов поверх бакетного преобразования проделаем следующую процедуру\n",
    "\n",
    "1. С помощью хэширования ид пользователя + соли разобьем наших пользователей на 50 групп (корзин)\n",
    "2. Считаем по каждой корзине сумму лайков, просмотров и значение CTR\n",
    "3. Смотрим на распределение и проводим проверку на равенство средних через стат.тесты"
   ]
  },
  {
   "cell_type": "code",
   "execution_count": 32,
   "id": "24662a8c-ade0-4513-93e2-5b4b40d2dd20",
   "metadata": {},
   "outputs": [
    {
     "data": {
      "application/json": {
       "ascii": false,
       "bar_format": null,
       "colour": null,
       "elapsed": 0.04512333869934082,
       "initial": 0,
       "n": 0,
       "ncols": null,
       "nrows": null,
       "postfix": null,
       "prefix": "Pandas Apply",
       "rate": null,
       "total": 19897,
       "unit": "it",
       "unit_divisor": 1000,
       "unit_scale": false
      },
      "application/vnd.jupyter.widget-view+json": {
       "model_id": "c565bd5170144b2f918bd64e8b083f3c",
       "version_major": 2,
       "version_minor": 0
      },
      "text/plain": [
       "Pandas Apply:   0%|          | 0/19897 [00:00<?, ?it/s]"
      ]
     },
     "metadata": {},
     "output_type": "display_data"
    }
   ],
   "source": [
    "abgroup.df['backet'] = (abgroup.df['user_id'].astype(str) + '-backet_test') \\\n",
    "    .swifter.apply(lambda x: int(hl.md5(x.encode('ascii')).hexdigest(), 16) % 50)"
   ]
  },
  {
   "cell_type": "code",
   "execution_count": 33,
   "id": "75864210-b479-4975-baf6-49d31d127c6f",
   "metadata": {},
   "outputs": [
    {
     "data": {
      "text/html": [
       "<div>\n",
       "<style scoped>\n",
       "    .dataframe tbody tr th:only-of-type {\n",
       "        vertical-align: middle;\n",
       "    }\n",
       "\n",
       "    .dataframe tbody tr th {\n",
       "        vertical-align: top;\n",
       "    }\n",
       "\n",
       "    .dataframe thead th {\n",
       "        text-align: right;\n",
       "    }\n",
       "</style>\n",
       "<table border=\"1\" class=\"dataframe\">\n",
       "  <thead>\n",
       "    <tr style=\"text-align: right;\">\n",
       "      <th></th>\n",
       "      <th>user_id</th>\n",
       "      <th>like</th>\n",
       "      <th>view</th>\n",
       "      <th>exp_group</th>\n",
       "      <th>ctr</th>\n",
       "      <th>smothed_ctr</th>\n",
       "      <th>backet</th>\n",
       "    </tr>\n",
       "  </thead>\n",
       "  <tbody>\n",
       "    <tr>\n",
       "      <th>2243</th>\n",
       "      <td>118436</td>\n",
       "      <td>9</td>\n",
       "      <td>19</td>\n",
       "      <td>2</td>\n",
       "      <td>0.473684</td>\n",
       "      <td>0.416719</td>\n",
       "      <td>23</td>\n",
       "    </tr>\n",
       "    <tr>\n",
       "      <th>15088</th>\n",
       "      <td>125328</td>\n",
       "      <td>7</td>\n",
       "      <td>61</td>\n",
       "      <td>2</td>\n",
       "      <td>0.114754</td>\n",
       "      <td>0.121231</td>\n",
       "      <td>45</td>\n",
       "    </tr>\n",
       "    <tr>\n",
       "      <th>19547</th>\n",
       "      <td>114330</td>\n",
       "      <td>20</td>\n",
       "      <td>82</td>\n",
       "      <td>1</td>\n",
       "      <td>0.243902</td>\n",
       "      <td>0.241931</td>\n",
       "      <td>44</td>\n",
       "    </tr>\n",
       "    <tr>\n",
       "      <th>9776</th>\n",
       "      <td>114056</td>\n",
       "      <td>1</td>\n",
       "      <td>11</td>\n",
       "      <td>1</td>\n",
       "      <td>0.090909</td>\n",
       "      <td>0.128001</td>\n",
       "      <td>30</td>\n",
       "    </tr>\n",
       "    <tr>\n",
       "      <th>17348</th>\n",
       "      <td>310</td>\n",
       "      <td>40</td>\n",
       "      <td>165</td>\n",
       "      <td>1</td>\n",
       "      <td>0.242424</td>\n",
       "      <td>0.241459</td>\n",
       "      <td>12</td>\n",
       "    </tr>\n",
       "    <tr>\n",
       "      <th>3371</th>\n",
       "      <td>1806</td>\n",
       "      <td>15</td>\n",
       "      <td>66</td>\n",
       "      <td>1</td>\n",
       "      <td>0.227273</td>\n",
       "      <td>0.226028</td>\n",
       "      <td>13</td>\n",
       "    </tr>\n",
       "    <tr>\n",
       "      <th>14170</th>\n",
       "      <td>116184</td>\n",
       "      <td>5</td>\n",
       "      <td>12</td>\n",
       "      <td>2</td>\n",
       "      <td>0.416667</td>\n",
       "      <td>0.353015</td>\n",
       "      <td>36</td>\n",
       "    </tr>\n",
       "    <tr>\n",
       "      <th>3679</th>\n",
       "      <td>107374</td>\n",
       "      <td>7</td>\n",
       "      <td>68</td>\n",
       "      <td>2</td>\n",
       "      <td>0.102941</td>\n",
       "      <td>0.109606</td>\n",
       "      <td>30</td>\n",
       "    </tr>\n",
       "    <tr>\n",
       "      <th>1917</th>\n",
       "      <td>116775</td>\n",
       "      <td>2</td>\n",
       "      <td>13</td>\n",
       "      <td>1</td>\n",
       "      <td>0.153846</td>\n",
       "      <td>0.169334</td>\n",
       "      <td>10</td>\n",
       "    </tr>\n",
       "    <tr>\n",
       "      <th>8894</th>\n",
       "      <td>23822</td>\n",
       "      <td>12</td>\n",
       "      <td>66</td>\n",
       "      <td>1</td>\n",
       "      <td>0.181818</td>\n",
       "      <td>0.183775</td>\n",
       "      <td>21</td>\n",
       "    </tr>\n",
       "  </tbody>\n",
       "</table>\n",
       "</div>"
      ],
      "text/plain": [
       "       user_id  like  view  exp_group       ctr  smothed_ctr  backet\n",
       "2243    118436     9    19          2  0.473684     0.416719      23\n",
       "15088   125328     7    61          2  0.114754     0.121231      45\n",
       "19547   114330    20    82          1  0.243902     0.241931      44\n",
       "9776    114056     1    11          1  0.090909     0.128001      30\n",
       "17348      310    40   165          1  0.242424     0.241459      12\n",
       "3371      1806    15    66          1  0.227273     0.226028      13\n",
       "14170   116184     5    12          2  0.416667     0.353015      36\n",
       "3679    107374     7    68          2  0.102941     0.109606      30\n",
       "1917    116775     2    13          1  0.153846     0.169334      10\n",
       "8894     23822    12    66          1  0.181818     0.183775      21"
      ]
     },
     "execution_count": 33,
     "metadata": {},
     "output_type": "execute_result"
    }
   ],
   "source": [
    "abgroup.df.sample(10, random_state=1000)"
   ]
  },
  {
   "cell_type": "code",
   "execution_count": 34,
   "id": "41a0ce32-162b-464d-be71-f718660e123d",
   "metadata": {},
   "outputs": [],
   "source": [
    "backet_df = abgroup.df.groupby(['exp_group', 'backet']) \\\n",
    "    .agg({'like': sum, 'view': sum, 'ctr': lambda x: np.quantile(x, 0.9)}).reset_index().rename(columns={'ctr': 'ctr_q90'})\n",
    "backet_df['bckt_ctr'] = backet_df['like'] / backet_df['view']"
   ]
  },
  {
   "cell_type": "code",
   "execution_count": 35,
   "id": "df476b20-9337-4ba2-9ed5-d3c22d28e6f2",
   "metadata": {},
   "outputs": [
    {
     "data": {
      "text/html": [
       "<div>\n",
       "<style scoped>\n",
       "    .dataframe tbody tr th:only-of-type {\n",
       "        vertical-align: middle;\n",
       "    }\n",
       "\n",
       "    .dataframe tbody tr th {\n",
       "        vertical-align: top;\n",
       "    }\n",
       "\n",
       "    .dataframe thead th {\n",
       "        text-align: right;\n",
       "    }\n",
       "</style>\n",
       "<table border=\"1\" class=\"dataframe\">\n",
       "  <thead>\n",
       "    <tr style=\"text-align: right;\">\n",
       "      <th></th>\n",
       "      <th>exp_group</th>\n",
       "      <th>backet</th>\n",
       "      <th>like</th>\n",
       "      <th>view</th>\n",
       "      <th>ctr_q90</th>\n",
       "      <th>bckt_ctr</th>\n",
       "    </tr>\n",
       "  </thead>\n",
       "  <tbody>\n",
       "    <tr>\n",
       "      <th>88</th>\n",
       "      <td>2</td>\n",
       "      <td>38</td>\n",
       "      <td>2696</td>\n",
       "      <td>14106</td>\n",
       "      <td>0.380481</td>\n",
       "      <td>0.191124</td>\n",
       "    </tr>\n",
       "    <tr>\n",
       "      <th>4</th>\n",
       "      <td>1</td>\n",
       "      <td>4</td>\n",
       "      <td>2385</td>\n",
       "      <td>11381</td>\n",
       "      <td>0.326679</td>\n",
       "      <td>0.209560</td>\n",
       "    </tr>\n",
       "    <tr>\n",
       "      <th>62</th>\n",
       "      <td>2</td>\n",
       "      <td>12</td>\n",
       "      <td>2631</td>\n",
       "      <td>12382</td>\n",
       "      <td>0.434442</td>\n",
       "      <td>0.212486</td>\n",
       "    </tr>\n",
       "    <tr>\n",
       "      <th>63</th>\n",
       "      <td>2</td>\n",
       "      <td>13</td>\n",
       "      <td>2757</td>\n",
       "      <td>14129</td>\n",
       "      <td>0.386538</td>\n",
       "      <td>0.195131</td>\n",
       "    </tr>\n",
       "    <tr>\n",
       "      <th>48</th>\n",
       "      <td>1</td>\n",
       "      <td>48</td>\n",
       "      <td>2741</td>\n",
       "      <td>13214</td>\n",
       "      <td>0.314787</td>\n",
       "      <td>0.207432</td>\n",
       "    </tr>\n",
       "    <tr>\n",
       "      <th>85</th>\n",
       "      <td>2</td>\n",
       "      <td>35</td>\n",
       "      <td>2701</td>\n",
       "      <td>13470</td>\n",
       "      <td>0.408933</td>\n",
       "      <td>0.200520</td>\n",
       "    </tr>\n",
       "    <tr>\n",
       "      <th>73</th>\n",
       "      <td>2</td>\n",
       "      <td>23</td>\n",
       "      <td>2780</td>\n",
       "      <td>14047</td>\n",
       "      <td>0.407015</td>\n",
       "      <td>0.197907</td>\n",
       "    </tr>\n",
       "    <tr>\n",
       "      <th>84</th>\n",
       "      <td>2</td>\n",
       "      <td>34</td>\n",
       "      <td>2755</td>\n",
       "      <td>13991</td>\n",
       "      <td>0.374254</td>\n",
       "      <td>0.196912</td>\n",
       "    </tr>\n",
       "    <tr>\n",
       "      <th>39</th>\n",
       "      <td>1</td>\n",
       "      <td>39</td>\n",
       "      <td>2963</td>\n",
       "      <td>13846</td>\n",
       "      <td>0.321179</td>\n",
       "      <td>0.213997</td>\n",
       "    </tr>\n",
       "    <tr>\n",
       "      <th>47</th>\n",
       "      <td>1</td>\n",
       "      <td>47</td>\n",
       "      <td>3038</td>\n",
       "      <td>15149</td>\n",
       "      <td>0.311944</td>\n",
       "      <td>0.200541</td>\n",
       "    </tr>\n",
       "  </tbody>\n",
       "</table>\n",
       "</div>"
      ],
      "text/plain": [
       "    exp_group  backet  like   view   ctr_q90  bckt_ctr\n",
       "88          2      38  2696  14106  0.380481  0.191124\n",
       "4           1       4  2385  11381  0.326679  0.209560\n",
       "62          2      12  2631  12382  0.434442  0.212486\n",
       "63          2      13  2757  14129  0.386538  0.195131\n",
       "48          1      48  2741  13214  0.314787  0.207432\n",
       "85          2      35  2701  13470  0.408933  0.200520\n",
       "73          2      23  2780  14047  0.407015  0.197907\n",
       "84          2      34  2755  13991  0.374254  0.196912\n",
       "39          1      39  2963  13846  0.321179  0.213997\n",
       "47          1      47  3038  15149  0.311944  0.200541"
      ]
     },
     "execution_count": 35,
     "metadata": {},
     "output_type": "execute_result"
    }
   ],
   "source": [
    "backet_df.sample(10, random_state=1000)"
   ]
  },
  {
   "cell_type": "code",
   "execution_count": 36,
   "id": "73d3bcbe-5d61-43b9-9723-0fbfeeec6bb9",
   "metadata": {},
   "outputs": [
    {
     "data": {
      "image/png": "[encoded data removed]",
      "text/plain": [
       "<Figure size 1440x576 with 1 Axes>"
      ]
     },
     "metadata": {
      "needs_background": "light"
     },
     "output_type": "display_data"
    }
   ],
   "source": [
    "plt.figure(figsize=(20,8))\n",
    "plt.title('Гистограмма CTR разибтого по 50 корзинам')\n",
    "sns.histplot(data = backet_df, x='bckt_ctr', hue='exp_group')\n",
    "plt.show()"
   ]
  },
  {
   "cell_type": "code",
   "execution_count": 37,
   "id": "d3e7857d-6b99-4572-96dd-048ffb81fc51",
   "metadata": {},
   "outputs": [
    {
     "data": {
      "text/plain": [
       "exp_group\n",
       "1    0.004988\n",
       "2    0.011179\n",
       "Name: bckt_ctr, dtype: float64"
      ]
     },
     "execution_count": 37,
     "metadata": {},
     "output_type": "execute_result"
    }
   ],
   "source": [
    "backet_df.groupby('exp_group')['bckt_ctr'].apply(lambda x: np.std(x))"
   ]
  },
  {
   "cell_type": "markdown",
   "id": "7d903642-5407-4783-8d34-750dfcde283f",
   "metadata": {},
   "source": [
    "Как видим распределения теперь больше похоже на нормальные, у тестовой группы (2), так же как мы выяснили ранее, результаты CTR растянуты очень широко, а купол находится левее большей части распределения контрольной группы. Стандартное отклонение у тестовой группы больше чем у контрольной. Контрольная же группа сгруппированна у достаточно высокого CTR по сравнению с тестовой группы. "
   ]
  },
  {
   "cell_type": "markdown",
   "id": "1e8648d6-d6a3-4e75-b96d-588d103892f4",
   "metadata": {},
   "source": [
    "Посчитаем среднее значение по CTR среди всех корзин"
   ]
  },
  {
   "cell_type": "code",
   "execution_count": 38,
   "id": "372ec74b-e979-4ff5-ad87-c4255ed8205d",
   "metadata": {},
   "outputs": [
    {
     "data": {
      "text/plain": [
       "exp_group\n",
       "1    0.209689\n",
       "2    0.200451\n",
       "Name: bckt_ctr, dtype: float64"
      ]
     },
     "execution_count": 38,
     "metadata": {},
     "output_type": "execute_result"
    }
   ],
   "source": [
    "backet_df.groupby('exp_group')['bckt_ctr'].mean()"
   ]
  },
  {
   "cell_type": "markdown",
   "id": "38a05840-1f27-4201-9b54-ef5683488d00",
   "metadata": {},
   "source": [
    "### Проверим равенство средних t-тестом между всей группой 1 и группой 2\n",
    "1. H0 - средние между группами равны\n",
    "2. H1 - средние между группами не равны"
   ]
  },
  {
   "cell_type": "code",
   "execution_count": 39,
   "id": "ed99054a-8721-4f94-b669-15dff9368ccc",
   "metadata": {},
   "outputs": [
    {
     "name": "stdout",
     "output_type": "stream",
     "text": [
      "p_value = 1.4585030295061888e-06, как следствие мы отклоняем нулевую гипотезу в пользу альтернативной\n"
     ]
    }
   ],
   "source": [
    "ttest_start(backet_df.query('exp_group == 1'), backet_df.query('exp_group == 2'), 'bckt_ctr', a)"
   ]
  },
  {
   "cell_type": "markdown",
   "id": "84a763d8-1dd9-41a0-85b3-d12bb1cf33fb",
   "metadata": {},
   "source": [
    "При проведение т-теста, было получено p_value сильно ниже установленного уровня стат.значимости (0.05), в данном случае мы отвергаем нулевую гипотезу о равенстве средних"
   ]
  },
  {
   "cell_type": "markdown",
   "id": "ddda46dc-31c7-478c-9d4a-454e13e59419",
   "metadata": {},
   "source": [
    "### Проведем сравнение с помощью критерия Манна-Уитни\n",
    "1. H0 - P(Ai>Bi) = P(Bi>Ai)\n",
    "2. H1 - P(Ai>Bi) <> P(Bi>Ai)"
   ]
  },
  {
   "cell_type": "code",
   "execution_count": 40,
   "id": "c1bf352a-9abe-4355-957f-8359b7f31e45",
   "metadata": {},
   "outputs": [
    {
     "name": "stdout",
     "output_type": "stream",
     "text": [
      "p_value = 4.586985687766298e-07, как следствие мы отклоняем нулевую гипотезу в пользу альтернативной\n"
     ]
    }
   ],
   "source": [
    "mwh_start(backet_df.query('exp_group == 1'), backet_df.query('exp_group == 2'), 'bckt_ctr', a)"
   ]
  },
  {
   "cell_type": "markdown",
   "id": "2c50acdb-2862-45fe-a196-a256df671e96",
   "metadata": {},
   "source": [
    "При проведение теста Манна-Уитни, было получено p_value сильно ниже установленного уровня стат.значимости (0.05), в данном случае мы отвергаем нулевую гипотезу о том, что событие когда случайно взятого значение из группы A больше чем случайно взятое значение из группы B равновероятно событию когда случайно взятое значение из группы B больше чем случайно взятое значение из группы A"
   ]
  },
  {
   "cell_type": "markdown",
   "id": "a1ebe059-f78b-4613-8b4c-48481999c923",
   "metadata": {},
   "source": [
    "Результаты теста подтверждают увиденную на графики ситуацию."
   ]
  },
  {
   "cell_type": "markdown",
   "id": "eb906858-a4cf-4cb0-b397-cc63104cd8bc",
   "metadata": {},
   "source": [
    "## ВЫВОД"
   ]
  },
  {
   "cell_type": "markdown",
   "id": "2a6c3331-40da-4412-bdf0-0bffb07d7f1e",
   "metadata": {},
   "source": [
    "В общем надо разобраться с пользователями у которых CTR просел, просмотры у них есть, нету лайков, хз че там у них. Ну и прочее написать здесь"
   ]
  },
  {
   "cell_type": "markdown",
   "id": "e3fb61aa-3a74-4e80-aa13-a3d1b46bfadc",
   "metadata": {},
   "source": [
    "Были полученны данные A/B тестирования за период 2023.08.29 - 2023.09.04, цель тестирования проверка нового рекомендательного алгоритма, который должен привести к увеличению CTR\n",
    "\n",
    "У нас имеется 19 897 записей (пользователей), которые делятся на две группы.\n",
    "- Группа 1 (контрольная A) - включает в себя 10020 записей\n",
    "- Группа 2 (тестовая B) - включает в себя 9877 записи\n",
    "\n",
    "Средние CTR по группам\n",
    "exp_group\n",
    "1. 0.216774\n",
    "2. 0.216102\n",
    "\n",
    "Далее проводился ряд статистических тестов, уровень стат.значимости равен 0.05\n",
    "\n",
    "**Результат t-теста на обычном CTR был следующим**\n",
    "- p_value = 0.685373331140751\n",
    "\n",
    "**Этим же тестом был проверен сглаженный CTR:**\n",
    "- p_value = 0.05166679015318526 сглаженный\n",
    "\n",
    "Оба раза тест не зафиксировал статистически значимых отклонений, не смотря на то, что тест на сглаженном CTR при уровне стат.значимости 0.1 зафиксировал бы разницу. Результаты теста можно объяснить скошенностью распределения тестовой группы, т.е. из за специфичного распределения группы B (имеет второй горб в диапазоне 0.2-0.4 и так сказать скошенность вправо) средняя уравнивается со средним контрольной группы.\n",
    "\n",
    "**Так же был, над обычным CTR был проведен тест основанный на критерии Манна-Уитни:**\n",
    "- p_value = 4.632205841806026e-45\n",
    "\n",
    "Результат данного теста стоит воспринимать с осторожностью, т.к. одно из требований теста Манна-Уитни это схожесть распределений, чего в нашем случае нет.\n",
    "\n",
    "**Пуассоновский бутстреп**\n",
    "\n",
    "Было выполненно 2000 симуляций на каждую группу, т.е. было получено 4000 CTR (по 2000 на каждую группу). Ввиду того, что на графике мы видим, что распределения не пересекаются (распределение разницы нам это показывает наглядно), мы можем утрвеждать что ctr прошедший через бутстреп показывает, что контрольная группа А показывает лучшие результаты метрики CTR, чем тестовая\n",
    "\n",
    "**Бакетное преобразование**\n",
    "Среднии значения CTR группы A(1) и B(2) после бакетного преобразования\n",
    "\n",
    "1. 0.209689\n",
    "2. 0.200451\n",
    "\n",
    "Над полученными корзинами было проведено два теста:\n",
    "\n",
    "- С помощью t-теста было получено p_value = 1.4585030295061888e-06\n",
    "- С помощью теста Манна-Уитни было получено p_value = 4.586985687766298e-07\n",
    "\n",
    "Оба теста зафиксировали статистически значимую разницу между группами, как следствие можно отклонить нулевую гипотезу о равенстве средних\n",
    "\n",
    "На основании вышесказанного можно сделать следующий вывод:\n",
    "Новый рекомендательный алгоритм разделил тестовую группу на 2 части, на тех у кого CTR сдвинулся вправо и на тех у кого CTR сдвинулся влево относительно большей части распределения контрольной группы. При этом по гистограмме количества просмотров на 1 пользователя нельзя сказать, что есть какое-то падение просмотра у тех пользователей группы B, CTR которых находится слева от основной части распределения. \n",
    "\n",
    "Статистические тесты же, особенно бутсреп, т-тест и тест Манна - Уитни поверх бакетного преобразования обнаружили статистически значимую разницу между средними двух групп в пользу контрольной группы.\n",
    "\n",
    "На текущий момент я бы не рекомендовал раскатывать данный алгоритм на всех пользователей. Возможно стоит попробовать выяснить причину, почему произошло разделение группы B на так сказать две части пользователей, чтобы выявить причину падения CTR и по возможности внести изменения, оставив при этом те причины, которые у другой части привели к увеличению CTR\n"
   ]
  }
 ],
 "metadata": {
  "kernelspec": {
   "display_name": "Python 3 (ipykernel)",
   "language": "python",
   "name": "python3"
  },
  "language_info": {
   "codemirror_mode": {
    "name": "ipython",
    "version": 3
   },
   "file_extension": ".py",
   "mimetype": "text/x-python",
   "name": "python",
   "nbconvert_exporter": "python",
   "pygments_lexer": "ipython3",
   "version": "3.11.5"
  }
 },
 "nbformat": 4,
 "nbformat_minor": 5
}
